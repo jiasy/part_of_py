{
 "cells": [
  {
   "cell_type": "code",
   "execution_count": null,
   "id": "3c4e0d5a-6eb3-4290-b417-0c67c5e66ba5",
   "metadata": {
    "tags": []
   },
   "outputs": [],
   "source": [
    "local start_mem = collectgarbage(\"count\")\n",
    "print(collectgarbage(\"count\"))  --> 输出当前所有 Lua 对象使用的内存大小，例如 300\n",
    "local obj = {1, 2, 3}\n",
    "local obj_mem = collectgarbage(\"count\") - start_mem\n",
    "print(\"obj 占用的内存大小为：\", obj_mem, \"KB\")"
   ]
  },
  {
   "cell_type": "code",
   "execution_count": null,
   "id": "585c8689-33d1-4423-b434-6a0a757140de",
   "metadata": {},
   "outputs": [],
   "source": []
  }
 ],
 "metadata": {
  "kernelspec": {
   "display_name": "Python 3 (ipykernel)",
   "language": "python",
   "name": "python3"
  },
  "language_info": {
   "file_extension": ".lua",
   "mimetype": "text/x-luasrc",
   "name": "lua",
   "version": "14.0.0"
  }
 },
 "nbformat": 4,
 "nbformat_minor": 5
}
