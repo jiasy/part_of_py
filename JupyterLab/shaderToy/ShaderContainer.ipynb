{
 "cells": [
  {
   "cell_type": "code",
   "execution_count": null,
   "metadata": {
    "ExecuteTime": {
     "end_time": "2023-07-12T17:20:56.678143Z",
     "start_time": "2023-07-12T17:20:56.095042Z"
    },
    "tags": []
   },
   "outputs": [],
   "source": [
    "from pathlib import Path\n",
    "import sys\n",
    "import os\n",
    "sys.path.append(\"/Users/nobody/Documents/develop/GitHub/Services/PY_Service\")\n",
    "from utils import fileUtils\n",
    "from jupylet.app import App\n",
    "from jupylet.label import Label\n",
    "from jupylet.shadertoy import Shadertoy\n",
    "\n",
    "def showShader(shaderName_:str,width_:int=600,height_:int=400):\n",
    "    _shaderFilePath = os.path.join(Path(os.getcwd()),\"shaders\",shaderName_+\".shader\")\n",
    "    _convertedStr = fileUtils.readFromFile(_shaderFilePath)\n",
    "    _app = App(width=width_, height=height_)\n",
    "    _st = Shadertoy(_convertedStr, width_, height_)\n",
    "    _label = Label(shaderName_, x=10, y=10, color='cyan')\n",
    "    return _app,_st,_label"
   ]
  },
  {
   "cell_type": "code",
   "execution_count": null,
   "metadata": {
    "ExecuteTime": {
     "end_time": "2023-07-12T17:20:56.685437Z",
     "start_time": "2023-07-12T17:20:56.095337Z"
    }
   },
   "outputs": [],
   "source": [
    "print(sys.version)"
   ]
  },
  {
   "cell_type": "code",
   "execution_count": null,
   "metadata": {
    "ExecuteTime": {
     "end_time": "2023-07-12T17:20:56.692459Z",
     "start_time": "2023-07-12T17:20:56.095356Z"
    }
   },
   "outputs": [],
   "source": [
    "# _shaderName = \"demo\"\n",
    "# https://iquilezles.org/articles/ # SDF 相关\n",
    "# _shaderName = \"SDF_udSegment\" # 胶囊体s\n",
    "# _shaderName = \"SDF_sdTriangle\" # 任意三角形\n",
    "# _shaderName = \"SDF_sdCircle\" # 圆\n",
    "# _shaderName = \"SDF_sdStar\" # N角星\n",
    "# _shaderName = \"SDF_sdUnevenCapsuleY\" # 两头不等胶囊体\n",
    "# _shaderName = \"SDF_sdPie\" # 扇形\n",
    "# _shaderName = \"SDF_sdArc\" # 环形\n",
    "# _shaderName = \"SDF_sdRoundSquare\" # 圆角正方形\n",
    "# _shaderName = \"SDF_sdHexagon\" # 正六边形\n",
    "# _shaderName = \"Warping_procedural\" # 扭曲，液态大理石\n",
    "_shaderName = \"CosmicMarble\" # 液态\n",
    "\n",
    "_width = 533\n",
    "_height = 300"
   ]
  },
  {
   "cell_type": "code",
   "execution_count": null,
   "metadata": {
    "ExecuteTime": {
     "end_time": "2023-07-12T17:20:56.885938Z",
     "start_time": "2023-07-12T17:20:56.694038Z"
    }
   },
   "outputs": [],
   "source": [
    "app,st,label = showShader(_shaderName,_width,_height)\n",
    "@app.event\n",
    "def render(ct_, dt_):\n",
    "    st.render(ct_, ct_)\n",
    "    label.render()\n",
    "app.run()"
   ]
  },
  {
   "cell_type": "code",
   "execution_count": null,
   "metadata": {
    "ExecuteTime": {
     "end_time": "2023-07-12T17:20:56.889188Z",
     "start_time": "2023-07-12T17:20:56.887784Z"
    }
   },
   "outputs": [],
   "source": []
  }
 ],
 "metadata": {
  "kernelspec": {
   "display_name": "Python 3 (ipykernel)",
   "language": "python",
   "name": "python3"
  },
  "language_info": {
   "codemirror_mode": {
    "name": "ipython",
    "version": 3
   },
   "file_extension": ".py",
   "mimetype": "text/x-python",
   "name": "python",
   "nbconvert_exporter": "python",
   "pygments_lexer": "ipython3",
   "version": "3.7.16"
  }
 },
 "nbformat": 4,
 "nbformat_minor": 4
}
