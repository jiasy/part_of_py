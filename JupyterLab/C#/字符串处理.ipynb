{
 "cells": [
  {
   "cell_type": "code",
   "execution_count": null,
   "metadata": {},
   "outputs": [],
   "source": [
    "using System.Text.RegularExpressions;\n",
    "var _rResult = Regex.Match (\n",
    "    \"/disk/XS/wp_client/Assets/Shaders/New*/\",\n",
    "    \"(.*)/([a-zA-Z0-9_-]*\\\\*[a-zA-Z0-9_-]*)(.*)\"\n",
    ");\n",
    "var _dir = _rResult.Groups[1].Value;\n",
    "var _ptnStr = _rResult.Groups[2].Value;\n",
    "var _post = _rResult.Groups[3].Value;\n",
    "\n",
    "Console.WriteLine (\"_dir : \" + (_dir).ToString ());\n",
    "Console.WriteLine (\"_ptnStr : \" + (_ptnStr).ToString ());\n",
    "Console.WriteLine (\"_post : \" + (_post).ToString ());\n",
    "\n",
    "var _dirInfo = new DirectoryInfo (_dir);\n",
    "var _dirs = _dirInfo.GetDirectories ();\n",
    "var _ptn = new Regex (_ptnStr.Replace (\"*\", \"(.+)\"));\n",
    "\n",
    "Console.WriteLine (\"_ptn : \" + (_ptn).ToString ());\n",
    "\n",
    "foreach (var _d in _dirs) {\n",
    "    var _subDirMatch = _ptn.Match (_d.Name);\n",
    "    if (_subDirMatch == null || !_subDirMatch.Success) {\n",
    "        continue;\n",
    "    }\n",
    "    var _dirPath = $\"{_dir}/{_d.Name}/{_post}\";\n",
    "    Console.WriteLine (\"_dirPath : \" + (_dirPath).ToString ());\n",
    "}"
   ]
  },
  {
   "cell_type": "code",
   "execution_count": null,
   "metadata": {},
   "outputs": [],
   "source": [
    "Uri _address1 = new Uri (\"http://www.contoso.com/\");\n",
    "Uri _address2 = new Uri (\"http://www.contoso.com/index.htm?date=today\");\n",
    "Uri _relativeUri = _address1.MakeRelativeUri (_address2);\n",
    "Console.WriteLine (\"The difference is {0}\", _relativeUri.ToString());\n"
   ]
  },
  {
   "cell_type": "code",
   "execution_count": null,
   "metadata": {},
   "outputs": [],
   "source": []
  }
 ],
 "metadata": {
  "kernelspec": {
   "display_name": ".NET (C#)",
   "language": "C#",
   "name": ".net-csharp"
  },
  "language_info": {
   "file_extension": ".cs",
   "mimetype": "text/x-csharp",
   "name": "C#",
   "pygments_lexer": "csharp",
   "version": "11.0"
  }
 },
 "nbformat": 4,
 "nbformat_minor": 4
}
