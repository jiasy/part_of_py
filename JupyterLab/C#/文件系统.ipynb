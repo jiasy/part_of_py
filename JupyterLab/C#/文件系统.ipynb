{
 "cells": [
  {
   "cell_type": "code",
   "execution_count": null,
   "metadata": {},
   "outputs": [],
   "source": [
    "char _sep = System.IO.Path.DirectorySeparatorChar;\n",
    "Console.WriteLine (\"路径分隔符 : \" + _sep);\n",
    "\n",
    "static string GetParentDirectory(string path_, int degree_ = 0) {\n",
    "    System.IO.DirectoryInfo _pathInfo = new System.IO.DirectoryInfo(path_);\n",
    "    string _newPath = _pathInfo.Parent.FullName;\n",
    "    for (int _idx = 0; _idx < degree_; _idx++) {\n",
    "        _pathInfo = new System.IO.DirectoryInfo(_newPath);\n",
    "        _newPath = _pathInfo.Parent.FullName;\n",
    "    }\n",
    "    return _newPath;\n",
    "}"
   ]
  },
  {
   "cell_type": "code",
   "execution_count": null,
   "metadata": {},
   "outputs": [],
   "source": [
    "string _runningRootPath = System.AppDomain.CurrentDomain.SetupInformation.ApplicationBase;\n",
    "Console.WriteLine (\"运行目录 : \" + _runningRootPath);\n",
    "\n",
    "string _fullRunningRootPath = GetParentDirectory(_runningRootPath);\n",
    "Console.WriteLine (\"上层路径 : \" + _fullRunningRootPath);\n",
    "\n",
    "string _replaceLastPath = _runningRootPath.Replace(\"any\", \"notAnay\");\n",
    "Console.WriteLine (\"路径替换 : \" + _replaceLastPath);\n",
    "\n",
    "string _replaceLastSubPath = System.IO.Path.Combine(_replaceLastPath,\"sub\");\n",
    "Console.WriteLine (\"路径拼接 : \" + _replaceLastSubPath);"
   ]
  },
  {
   "cell_type": "code",
   "execution_count": null,
   "metadata": {},
   "outputs": [],
   "source": []
  },
  {
   "cell_type": "code",
   "execution_count": null,
   "metadata": {},
   "outputs": [],
   "source": []
  }
 ],
 "metadata": {
  "kernelspec": {
   "display_name": ".NET (C#)",
   "language": "C#",
   "name": ".net-csharp"
  },
  "language_info": {
   "file_extension": ".cs",
   "mimetype": "text/x-csharp",
   "name": "C#",
   "pygments_lexer": "csharp",
   "version": "11.0"
  }
 },
 "nbformat": 4,
 "nbformat_minor": 4
}
