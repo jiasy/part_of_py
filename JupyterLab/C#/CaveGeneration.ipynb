{
 "cells": [
  {
   "cell_type": "code",
   "execution_count": null,
   "metadata": {
    "ExecuteTime": {
     "end_time": "2023-05-16T18:33:23.921036Z",
     "start_time": "2023-05-16T18:33:22.840844Z"
    }
   },
   "outputs": [],
   "source": [
    "class MapGenerator{\n",
    "    public int width = 100;\n",
    "    public int height = 100 ;\n",
    "    \n",
    "    public string seed = \"default\";\n",
    "    \n",
    "    public int randomFillPercent = 50;\n",
    "    \n",
    "    private int[,] map;// 地图信息\n",
    "    \n",
    "    public MapGenerator () {\n",
    "        \n",
    "    }\n",
    "    \n",
    "    public void GenerateMap(int width_, int height_,int randomFillPercent_,int smoothTimes_ = 5,bool randomBool_ = true){\n",
    "        width = width_;\n",
    "        height = height_;\n",
    "        randomFillPercent = randomFillPercent_;\n",
    "        map = new int[width,height];\n",
    "        RandomFillMap(randomBool_);// 随机地图\n",
    "        for (int _idx = 0; _idx < smoothTimes_; _idx++) {\n",
    "            SmoothMap();// 平滑\n",
    "        }\n",
    "        DrawMap();// 画地图\n",
    "    }\n",
    "    \n",
    "    public void RandomFillMap(bool randomBool_ = false){\n",
    "        if (randomBool_){\n",
    "            seed = DateTime.Now.ToString();\n",
    "        }\n",
    "        System.Random _random = new System.Random(seed.GetHashCode());// 随机\n",
    "        for (int _xIdx = 0; _xIdx < width; _xIdx++) {\n",
    "            for (int _yIdx = 0; _yIdx < height; _yIdx++) {\n",
    "                if (_xIdx == 0 || _xIdx == width - 1 || _yIdx == 0 || _yIdx == height - 1){\n",
    "                    map[_xIdx,_yIdx] = 1; // 边界画墙\n",
    "                }else{\n",
    "                    map[_xIdx,_yIdx] = _random.Next(0,100) < randomFillPercent ? 1 : 0;\n",
    "                }\n",
    "            }\n",
    "        }\n",
    "    }\n",
    "    public void SmoothMap(){\n",
    "        for (int _xIdx = 0; _xIdx < width; _xIdx++) {\n",
    "            for (int _yIdx = 0; _yIdx < height; _yIdx++) {\n",
    "                int _neighbourWallCount = GetSurroundingWallCount(_xIdx,_yIdx);//边缘的墙个数，最大是8个，最小0个。\n",
    "                // Console.WriteLine(\"_neighbourWallCount : \" + (_neighbourWallCount).ToString());\n",
    "                if (_neighbourWallCount > 4){// 身边有四面墙，他也是墙\n",
    "                    map[_xIdx,_yIdx] = 1;\n",
    "                }else if (_neighbourWallCount < 4){// 身边没有四面墙，它就不是强\n",
    "                    map[_xIdx,_yIdx] = 0;\n",
    "                }else{\n",
    "                    // 身边正好四面墙的，就保持它不变\n",
    "                }\n",
    "            }\n",
    "        }\n",
    "    }\n",
    "    // 获取周围的墙\n",
    "    public int GetSurroundingWallCount(int xIdx_,int yIdx_){\n",
    "        int wallCount = 0;\n",
    "        // Console.WriteLine(\"xIdx_ : \" + (xIdx_).ToString()); \n",
    "        // Console.WriteLine(\"yIdx_ : \" + (yIdx_).ToString());\n",
    "        for (int _neighbourX = xIdx_ - 1; _neighbourX <= xIdx_ + 1; _neighbourX++) {\n",
    "            // Console.WriteLine(\"    _neighbourX : \" + (_neighbourX).ToString()); \n",
    "            for (int _neighbourY = yIdx_ - 1; _neighbourY <= yIdx_ + 1; _neighbourY++) {\n",
    "                // Console.WriteLine(\"        _neighbourY : \" + (_neighbourY).ToString()); \n",
    "                if (_neighbourX >= 0 && _neighbourX < width && _neighbourY >= 0 && _neighbourY <height){\n",
    "                    if (_neighbourX != xIdx_ || _neighbourY != yIdx_){\n",
    "                        // Console.WriteLine(\"            A - \"); \n",
    "                        wallCount += map[_neighbourX,_neighbourY];\n",
    "                    }\n",
    "                }else{\n",
    "                        // Console.WriteLine(\"            B + \"); \n",
    "                    wallCount++;//边缘墙 加一。四角顶点 加二\n",
    "                }\n",
    "            }\n",
    "        }\n",
    "        // Console.WriteLine(\"wallCount : \" + (wallCount).ToString());\n",
    "        return wallCount;\n",
    "    }\n",
    "    public void DrawMap(){\n",
    "        string _mapStr = \"\";\n",
    "        for (int _xIdx = 0; _xIdx < width; _xIdx++) {\n",
    "            _mapStr += \"- \";\n",
    "        }\n",
    "        _mapStr += \"\\n\";\n",
    "        for (int _yIdx = 0; _yIdx < height; _yIdx++) {\n",
    "            string _mapLine = \"\";\n",
    "            for (int _xIdx = 0; _xIdx < width; _xIdx++) {\n",
    "                _mapLine += map[_xIdx,_yIdx] == 1 ? \"O \" : \"  \";\n",
    "            }\n",
    "            _mapStr += _mapLine + \"\\n\";\n",
    "        }\n",
    "        Console.WriteLine(_mapStr); \n",
    "    }\n",
    "}"
   ]
  },
  {
   "cell_type": "code",
   "execution_count": null,
   "metadata": {
    "ExecuteTime": {
     "end_time": "2023-05-16T18:33:34.530373Z",
     "start_time": "2023-05-16T18:33:34.486346Z"
    }
   },
   "outputs": [],
   "source": [
    "MapGenerator _mapGenerator = new MapGenerator();\n",
    "_mapGenerator.GenerateMap(\n",
    "    30,30,\n",
    "    45, // 阈值 - 45 比较好\n",
    "    5, // 平滑次数\n",
    "    false // 随机\n",
    ");"
   ]
  },
  {
   "cell_type": "code",
   "execution_count": null,
   "metadata": {
    "ExecuteTime": {
     "end_time": "2023-05-16T18:33:38.558909Z",
     "start_time": "2023-05-16T18:33:38.537029Z"
    }
   },
   "outputs": [],
   "source": [
    "MapGenerator _mapGenerator = new MapGenerator();\n",
    "_mapGenerator.GenerateMap(\n",
    "    30,30,\n",
    "    45, // 阈值 - 45 比较好\n",
    "    4, // 平滑次数\n",
    "    false // 随机\n",
    ");"
   ]
  },
  {
   "cell_type": "code",
   "execution_count": null,
   "metadata": {
    "ExecuteTime": {
     "end_time": "2023-05-16T18:33:46.829861Z",
     "start_time": "2023-05-16T18:33:46.794269Z"
    }
   },
   "outputs": [],
   "source": [
    "MapGenerator _mapGenerator = new MapGenerator();\n",
    "_mapGenerator.GenerateMap(\n",
    "    30,30,\n",
    "    45, // 阈值 - 45 比较好\n",
    "    3, // 平滑次数\n",
    "    false // 随机\n",
    ");"
   ]
  },
  {
   "cell_type": "code",
   "execution_count": null,
   "metadata": {},
   "outputs": [],
   "source": [
    "MapGenerator _mapGenerator = new MapGenerator();\n",
    "_mapGenerator.GenerateMap(\n",
    "    30,30,\n",
    "    45, // 阈值 - 45 比较好\n",
    "    2, // 平滑次数\n",
    "    false // 随机\n",
    ");"
   ]
  },
  {
   "cell_type": "code",
   "execution_count": null,
   "metadata": {},
   "outputs": [],
   "source": [
    "MapGenerator _mapGenerator = new MapGenerator();\n",
    "_mapGenerator.GenerateMap(\n",
    "    30,30,\n",
    "    45, // 阈值 - 45 比较好\n",
    "    1, // 平滑次数\n",
    "    false // 随机\n",
    ");"
   ]
  },
  {
   "cell_type": "code",
   "execution_count": null,
   "metadata": {},
   "outputs": [],
   "source": []
  },
  {
   "cell_type": "code",
   "execution_count": null,
   "metadata": {},
   "outputs": [],
   "source": []
  }
 ],
 "metadata": {
  "kernelspec": {
   "display_name": ".NET (C#)",
   "language": "C#",
   "name": ".net-csharp"
  },
  "language_info": {
   "file_extension": ".cs",
   "mimetype": "text/x-csharp",
   "name": "C#",
   "pygments_lexer": "csharp",
   "version": "11.0"
  }
 },
 "nbformat": 4,
 "nbformat_minor": 4
}
