{
 "cells": [
  {
   "cell_type": "code",
   "execution_count": null,
   "metadata": {
    "tags": [],
    "vscode": {
     "languageId": "csharp"
    }
   },
   "outputs": [],
   "source": [
    "string _seed = DateTime.Now.ToString();\n",
    "System.Random _random = new System.Random(_seed.GetHashCode());\n",
    "\n",
    "ushort _ushort = 0;//_random.Next(ushort.MinValue,ushort.MaxValue);\n",
    "Console.WriteLine (\"ushort ----------------------------------------------------\");\n",
    "Console.WriteLine (\"typeof(ushort     =  \" + typeof(ushort));\n",
    "Console.WriteLine (\"_ushort.GetType() =  \" + _ushort.GetType());\n",
    "Console.WriteLine (\"sizeof(ushort)    =  \" + sizeof(ushort));\n",
    "Console.WriteLine (\"ushort.MinValue   =  \" + ushort.MinValue);\n",
    "Console.WriteLine (\"ushort.MaxValue   =  \" + ushort.MaxValue);\n",
    "\n",
    "short _short = 0;\n",
    "Console.WriteLine (\"short ----------------------------------------------------\");\n",
    "Console.WriteLine (\"typeof(short     =  \" + typeof(short));\n",
    "Console.WriteLine (\"_short.GetType() =  \" + _short.GetType());\n",
    "Console.WriteLine (\"sizeof(short)    =  \" + sizeof(short));\n",
    "Console.WriteLine (\"short.MinValue   =  \" + short.MinValue);\n",
    "Console.WriteLine (\"short.MaxValue   =  \" + short.MaxValue);\n",
    "Console.WriteLine (\"sizeof(short)    =  \" + sizeof(short));\n",
    "Console.WriteLine (\"Int16.MinValue   =  \" + Int16.MinValue);\n",
    "Console.WriteLine (\"Int16.MaxValue   =  \" + Int16.MaxValue);\n",
    "\n",
    "int _int = _random.Next(int.MinValue,int.MaxValue);\n",
    "Console.WriteLine(\"_int : \" + (_int).ToString() + \" --------------------------------------\");\n",
    "Console.WriteLine (\"typeof(int)    =  \" + typeof(int));\n",
    "Console.WriteLine (\"_int.GetType() =  \" + _int.GetType());\n",
    "Console.WriteLine (\"sizeof(int)    =  \" + sizeof (int));\n",
    "Console.WriteLine (\"int.MinValue   =  \" + int.MinValue);\n",
    "Console.WriteLine (\"int.MaxValue   =  \" + int.MaxValue);\n",
    "Console.WriteLine (\"Int32.MinValue =  \" + Int32.MinValue);\n",
    "Console.WriteLine (\"Int32.MaxValue =  \" + Int32.MaxValue);\n",
    "\n",
    "float _float = System.Convert.ToSingle(_random.NextDouble()) * (float.MaxValue - float.MinValue) + float.MinValue;\n",
    "Console.WriteLine (\"_float : \" + (_float).ToString() + \" --------------------------\");\n",
    "Console.WriteLine (\"typeof(float)    =  \" + typeof(float));\n",
    "Console.WriteLine (\"_float.GetType() =  \" + _float.GetType());\n",
    "Console.WriteLine (\"sizeof(float)    =  \" + sizeof (float));\n",
    "Console.WriteLine (\"float.MinValue   =  \" + float.MinValue);\n",
    "Console.WriteLine (\"float.MaxValue   =  \" + float.MaxValue);\n",
    "\n",
    "double _double = _random.NextDouble() * (double.MaxValue - double.MinValue) + double.MinValue;\n",
    "Console.WriteLine (\"_double : \" + (_double).ToString() + \" -------------------------\");\n",
    "Console.WriteLine (\"typeof(double)    =  \" + typeof(double));\n",
    "Console.WriteLine (\"_double.GetType() =  \" + _double.GetType());\n",
    "Console.WriteLine (\"sizeof(double)    =  \" + sizeof (double));\n",
    "Console.WriteLine (\"double.MinValue   =  \" + double.MinValue);\n",
    "Console.WriteLine (\"double.MaxValue   =  \" + double.MaxValue);\n",
    "\n",
    "string _string = \"string\";\n",
    "Console.WriteLine (\"string ----------------------------------------------------\");\n",
    "Console.WriteLine (\"typeof(string)    =  \" + typeof(string));\n",
    "Console.WriteLine (\"_string.GetType() =  \" + _string.GetType());"
   ]
  },
  {
   "cell_type": "code",
   "execution_count": null,
   "metadata": {
    "tags": [],
    "vscode": {
     "languageId": "csharp"
    }
   },
   "outputs": [],
   "source": [
    "Console.WriteLine (\"类型判断 -------------------------------------------------------\");\n",
    "object _intObject = _int;// 直接用 _int is int 的话，编译器知道这个是int，无意义的类型判断会报Warning。用object变量引用一下，判断类型才有意义。\n",
    "Console.WriteLine (\"变量是否是 _intObject 是 int 类型\" + (_intObject is int).ToString());"
   ]
  },
  {
   "cell_type": "code",
   "execution_count": null,
   "metadata": {
    "tags": [],
    "vscode": {
     "languageId": "csharp"
    }
   },
   "outputs": [],
   "source": [
    "Console.WriteLine (\"类型转换 -------------------------------------------------------\");\n",
    "// 字符串转数字\n",
    "string _intStr = \"1.0\";\n",
    "int _intValue;\n",
    "if(int.TryParse(_intStr,out _intValue)){\n",
    "    Console.WriteLine ( _intValue.ToString() + \" 是 Int\");\n",
    "}else{\n",
    "    Console.WriteLine (_intStr + \" 不是Int\");\n",
    "}\n",
    "// 不同数字转换，大向小转换注意截取。。。\n",
    "_float = System.Convert.ToSingle(_double);\n",
    "Console.WriteLine (\" double 转换成 float \"+_float.ToString());"
   ]
  },
  {
   "cell_type": "code",
   "execution_count": null,
   "metadata": {
    "tags": [],
    "vscode": {
     "languageId": "csharp"
    }
   },
   "outputs": [],
   "source": [
    "Console.WriteLine (\"四舍五入 -------------------------------------------------------\");\n",
    "int _int1 = 112;\n",
    "int _int2 = 123;\n",
    "double _resultDouble = Math.Floor((double)_int1/_int2);\n",
    "Console.WriteLine (\" _resultDouble : \"+_resultDouble.ToString());"
   ]
  },
  {
   "cell_type": "code",
   "execution_count": null,
   "metadata": {
    "tags": [],
    "vscode": {
     "languageId": "csharp"
    }
   },
   "outputs": [],
   "source": [
    "var mainObj = new { // object 创建 使用 new {}\n",
    "    str = \"strValue\",\n",
    "    num = 1.5,\n",
    "    boo = false,\n",
    "    obj = new {\n",
    "        str = \"strValue\",\n",
    "        num = 1.5,\n",
    "        boo = false,\n",
    "        arr = new object[] { // array 创建 使用 new object[]{}\n",
    "            \"arrStr\",\n",
    "            2,\n",
    "            false,\n",
    "            new object[] {\n",
    "                \"arrStr\",\n",
    "                2,\n",
    "                false,\n",
    "            },\n",
    "            new {\n",
    "                str = \"strValue\",\n",
    "                num = 1.5,\n",
    "                boo = false,\n",
    "                arr = new object[] {\n",
    "                    \"arrStr\",\n",
    "                    2,\n",
    "                    false,\n",
    "                    new object[] {\n",
    "                        \"arrStr\",\n",
    "                        2,\n",
    "                        false,\n",
    "                    },\n",
    "                    new {\n",
    "                        str = \"strValue\",\n",
    "                        num = 1.5,\n",
    "                        boo = false,\n",
    "                    },\n",
    "                },\n",
    "            },\n",
    "        },\n",
    "        obj = new {\n",
    "            arr = new object[] {\n",
    "                \"arrStr\",\n",
    "                2,\n",
    "                false,\n",
    "                new object[] {\n",
    "                    \"arrStr\",\n",
    "                    2,\n",
    "                    false,\n",
    "                },\n",
    "                new {\n",
    "                    str = \"strValue\",\n",
    "                    num = 1.5,\n",
    "                    boo = false,\n",
    "                    arr = new object[] {\n",
    "                        \"arrStr\",\n",
    "                        2,\n",
    "                        false,\n",
    "                        new object[] {\n",
    "                            \"arrStr\",\n",
    "                            2,\n",
    "                            false,\n",
    "                        },\n",
    "                        new {\n",
    "                            str = \"strValue\",\n",
    "                            num = 1.5,\n",
    "                            boo = false,\n",
    "                            arr = new object[] {\n",
    "                                \"arrStr\",\n",
    "                                2,\n",
    "                                false,\n",
    "                                new object[] {\n",
    "                                    \"arrStr\",\n",
    "                                    2,\n",
    "                                    false,\n",
    "                                },\n",
    "                                new {\n",
    "                                    str = \"strValue\",\n",
    "                                    num = 1.5,\n",
    "                                    boo = false,\n",
    "                                },\n",
    "                            },\n",
    "                        },\n",
    "                    },\n",
    "                },\n",
    "            },\n",
    "        },\n",
    "    },\n",
    "};\n",
    "Console.WriteLine (mainObj.ToString()); // { str = strValue, num = 1.5, boo = False, obj = { str = strValue, num = 1.5, boo = False, arr = System.Object[], obj = { arr = System.Object[] } } }\n",
    "Console.WriteLine (mainObj.str.ToString()); // strValue\n",
    "Console.WriteLine (mainObj.obj.ToString()); // { str = strValue, num = 1.5, boo = False, arr = System.Object[], obj = { arr = System.Object[] } }\n",
    "Console.WriteLine (mainObj.obj.obj.ToString()); // { arr = System.Object[] }\n",
    "Console.WriteLine (mainObj.obj.obj.arr.ToString()); // System.Object[]\n",
    "Console.WriteLine (mainObj.obj.obj.arr[4].ToString()); // { str = strValue, num = 1.5, boo = False, arr = System.Object[] }\n",
    "// Console.WriteLine (mainObj.obj.obj.arr[4].ToString()); // 报错 - 数组元素取属性 C# 不支持。\n",
    "Console.WriteLine (mainObj.obj.obj.arr[3].ToString()); // System.Object[]\n",
    "// Console.WriteLine (mainObj.obj.obj.arr[3][0].ToString()); 报错 - 数组元素再取数组元素 C# 不支持。"
   ]
  },
  {
   "cell_type": "code",
   "execution_count": null,
   "metadata": {
    "vscode": {
     "languageId": "csharp"
    }
   },
   "outputs": [],
   "source": [
    "public class Util{\n",
    "    // 对象键值对转换\n",
    "    public static SortedDictionary<string,object> convertObjectToJsonDict(object obj_, string currentath_ = \"\", System.Collections.Generic.SortedDictionary<string,object> cacheDict_ = null){\n",
    "        bool _isMain = false;\n",
    "        if(cacheDict_ == null){\n",
    "            cacheDict_ = new System.Collections.Generic.SortedDictionary<string,object>();\n",
    "            _isMain = true;\n",
    "        }\n",
    "        foreach (System.Reflection.PropertyInfo _kvObj in obj_.GetType ().GetProperties ()) {\n",
    "            if (_kvObj.DeclaringType != _kvObj.ReflectedType) { //非自定义方法\n",
    "                continue;\n",
    "            }\n",
    "            string _key = _kvObj.Name;\n",
    "            string _nextPath = currentath_ + \".\" + _key;\n",
    "            var _value = _kvObj.GetValue (obj_);\n",
    "            if (_value is bool ||_value is string ||_value is int ||_value is double) {\n",
    "                //Console.WriteLine (_nextPath + \" = \" + _value.ToString());\n",
    "            } else if (_value is Array) {\n",
    "                convertArrayToJsonList((Array)_value,_nextPath,cacheDict_);\n",
    "            } else if (_value is object) {//最后包对象，因为对象是基类...上面的条件都满足\n",
    "                convertObjectToJsonDict(_value,_nextPath,cacheDict_);\n",
    "            }\n",
    "            cacheDict_[_nextPath] = _value;\n",
    "        }\n",
    "        if (_isMain){\n",
    "            return cacheDict_;\n",
    "        }\n",
    "        return null;\n",
    "    }\n",
    "    //数组包装\n",
    "    public static void convertArrayToJsonList(Array list_,string currentath_, System.Collections.Generic.SortedDictionary<string,object> cacheDict_ ){\n",
    "        for (int _idx = 0; _idx < list_.Length; _idx++) {\n",
    "            var _item = list_.GetValue (_idx);\n",
    "            string _nextPath = currentath_ + \"[\" + _idx.ToString() + \"]\";\n",
    "            if (_item is bool ||_item is string ||_item is int ||_item is double) {\n",
    "                //Console.WriteLine (_nextPath + \" = \" + _item.ToString());\n",
    "            }else if(_item is Array) {\n",
    "                convertArrayToJsonList((Array)_item,_nextPath,cacheDict_);\n",
    "            } else if (_item is object) {//最后包对象，因为对象是基类...上面的条件都满足\n",
    "                convertObjectToJsonDict(_item,_nextPath,cacheDict_);\n",
    "            }\n",
    "            cacheDict_[_nextPath] = _item;\n",
    "        }\n",
    "    }\n",
    "}"
   ]
  },
  {
   "cell_type": "code",
   "execution_count": null,
   "metadata": {
    "vscode": {
     "languageId": "csharp"
    }
   },
   "outputs": [],
   "source": [
    "// 将对象递归解析，将字典结构转换成键值对结构\n",
    "System.Collections.Generic.SortedDictionary<string,object> _cacheDict = Util.convertObjectToJsonDict(mainObj,\"mainObj\",null); // 排序型字典\n",
    "// 打印解析后的键值对\n",
    "var _cacheDictEnume = _cacheDict.GetEnumerator();\n",
    "while (_cacheDictEnume.MoveNext()) {\n",
    "    var _path = _cacheDictEnume.Current.Key;\n",
    "    Console.WriteLine (_path + \"  =  \" + _cacheDict[_path].ToString());\n",
    "}\n",
    "_cacheDictEnume.Dispose();"
   ]
  },
  {
   "cell_type": "code",
   "execution_count": null,
   "metadata": {
    "vscode": {
     "languageId": "csharp"
    }
   },
   "outputs": [],
   "source": [
    "// 创建指定长度的数组\n",
    "int [] _arrFix = new int[3];\n",
    "// 数组的字面量初始化\n",
    "int [] _arr = new int[]{1, 2, 3};\n",
    "// 数组转List\n",
    "List<int> _listInit = new List<int>(_arr);\n",
    "// 通过 数组的字面量初始化，来初始化 List\n",
    "List<int> _listInitPlus = new List<int>(new int[]{1, 2, 3});"
   ]
  },
  {
   "cell_type": "code",
   "execution_count": null,
   "metadata": {
    "vscode": {
     "languageId": "csharp"
    }
   },
   "outputs": [],
   "source": []
  }
 ],
 "metadata": {
  "kernelspec": {
   "display_name": ".NET (C#)",
   "language": "C#",
   "name": ".net-csharp"
  },
  "language_info": {
   "file_extension": ".cs",
   "mimetype": "text/x-csharp",
   "name": "C#",
   "pygments_lexer": "csharp",
   "version": "11.0"
  }
 },
 "nbformat": 4,
 "nbformat_minor": 4
}
