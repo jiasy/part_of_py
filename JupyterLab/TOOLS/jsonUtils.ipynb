{
 "cells": [
  {
   "cell_type": "code",
   "execution_count": null,
   "metadata": {
    "ExecuteTime": {
     "end_time": "2023-06-30T17:21:43.479156Z",
     "start_time": "2023-06-30T17:21:43.285554Z"
    }
   },
   "outputs": [],
   "source": [
    "# 导入Py_Service\n",
    "import sys\n",
    "import os\n",
    "\n",
    "sys.path.append(\"/Users/nobody/Documents/develop/GitHub/Services/PY_Service\")\n",
    "# 导入工具\n",
    "from utils import jsonUtils\n",
    "from utils import dictUtils\n",
    "import json\n",
    "from xmljson import badgerfish as bf\n",
    "from xml.etree.ElementTree import fromstring\n",
    "from xml.etree.ElementTree import tostring\n",
    "import json"
   ]
  },
  {
   "cell_type": "code",
   "execution_count": null,
   "metadata": {
    "ExecuteTime": {
     "end_time": "2023-06-30T17:34:15.980059Z",
     "start_time": "2023-06-30T17:34:15.976899Z"
    }
   },
   "outputs": [],
   "source": [
    "# 创建复杂 JSON 对象\n",
    "json_obj = {\n",
    "    \"component\": {\n",
    "        \"@size\": \"1080,1920\",\n",
    "        \"displayList\": {\n",
    "            \"image\": [\n",
    "                {\n",
    "                    \"@id\": \"n3_tv8m\",\n",
    "                    \"@name\": \"n3\",\n",
    "                    \"@xy\": \"0,120\",\n",
    "                    \"@src\": \"p37n2\",\n",
    "                    \"@fileName\": \"图层 147.png\"\n",
    "                }\n",
    "            ],\n",
    "            \"richtext\": [\n",
    "                {\n",
    "                    \"@id\": \"n4_tv8m\",\n",
    "                    \"@name\": \"n4\",\n",
    "                    \"@text\": \"已登陆\",\n",
    "                    \"@xy\": \"555,535\",\n",
    "                    \"@size\": \"76,31\",\n",
    "                    \"@vAlign\": \"middle\",\n",
    "                    \"@autoSize\": \"none\",\n",
    "                    \"@font\": \"AdobeHeitiStd-Regular\",\n",
    "                    \"@fontSize\": \"24\",\n",
    "                    \"@color\": \"#ffeec5\"\n",
    "                },\n",
    "                {\n",
    "                    \"@id\": \"n4_tv8s\",\n",
    "                    \"@name\": \"n5\",\n",
    "                    \"@text\": \"未登陆\",\n",
    "                    \"@xy\": \"555,535\",\n",
    "                    \"@size\": \"76,31\",\n",
    "                    \"@vAlign\": \"middle\",\n",
    "                    \"@autoSize\": \"none\",\n",
    "                    \"@font\": \"AdobeHeitiStd-Regular\",\n",
    "                    \"@fontSize\": \"24\",\n",
    "                    \"@color\": \"#ffeec5\"\n",
    "                }\n",
    "            ]\n",
    "        }\n",
    "    }\n",
    "}\n",
    "\n",
    "# 将 JSON 对象转换为 XML\n",
    "xml_output = bf.etree(json_obj)\n",
    "\n",
    "# 打印 XML 数据\n",
    "xml_str = tostring(xml_output[0], encoding=\"unicode\")\n",
    "print(xml_str)\n"
   ]
  },
  {
   "cell_type": "code",
   "execution_count": null,
   "metadata": {
    "ExecuteTime": {
     "end_time": "2023-06-30T17:43:05.253302Z",
     "start_time": "2023-06-30T17:43:05.249084Z"
    }
   },
   "outputs": [],
   "source": [
    "jsonStr = \"\"\"\n",
    "{\n",
    "\t\"strKey\": \"str\",\n",
    "\t\"intKey\": 1,\n",
    "\t\"floatKey\": 1.1,\n",
    "\t\"dictKey\": {\n",
    "\t\t\"strInDictKey\": \"str\",\n",
    "\t\t\"boolInDictKey\": false,\n",
    "\t\t\"floatKey\": 1.1\n",
    "\t},\n",
    "\t\"listKey\": [\n",
    "\t\t{\n",
    "\t\t\t\"intInListKey\": 1,\n",
    "\t\t\t\"dictInListKey\": {\n",
    "\t\t\t\t\"strInListDictKey\": \"str\"\n",
    "\t\t\t}\n",
    "\t\t}\n",
    "\t]\n",
    "}\n",
    "\"\"\"\n",
    "\n",
    "jsonStr = \"\"\"\n",
    "{\n",
    "    \"Queue\":[{\n",
    "        \"Id\":1,\n",
    "        \"Status\":1,\n",
    "        \"RelativeId\":1\n",
    "    }]\n",
    "}\n",
    "\"\"\"\n",
    "_rootName = \"QuickQueue\"\n",
    "\n",
    "# 打印结构\n",
    "dictUtils.printDictAsKeyValue(json.loads(jsonStr), _rootName)"
   ]
  },
  {
   "cell_type": "code",
   "execution_count": null,
   "metadata": {
    "ExecuteTime": {
     "end_time": "2023-06-17T19:45:04.905026Z",
     "start_time": "2023-06-17T19:45:04.893368Z"
    }
   },
   "outputs": [],
   "source": [
    "# 生成的 CSharp 代码\n",
    "_cSharpJsonSerializeCode = jsonUtils.jsonToCSharpJsonSerializeCode(_rootName, jsonStr)\n",
    "print(_cSharpJsonSerializeCode)"
   ]
  },
  {
   "cell_type": "code",
   "execution_count": null,
   "metadata": {
    "ExecuteTime": {
     "end_time": "2023-06-17T19:45:04.905456Z",
     "start_time": "2023-06-17T19:45:04.898611Z"
    }
   },
   "outputs": [],
   "source": [
    "# 生成的 Unity Dots 下 BlobAsset 结构代码\n",
    "_cSharpBlobAssetCode = jsonUtils.jsonToDotsBlobAssetCode(_rootName, jsonStr)\n",
    "print(_cSharpBlobAssetCode)"
   ]
  },
  {
   "cell_type": "code",
   "execution_count": null,
   "metadata": {
    "ExecuteTime": {
     "end_time": "2023-06-17T19:45:04.912821Z",
     "start_time": "2023-06-17T19:45:04.905931Z"
    }
   },
   "outputs": [],
   "source": [
    "# 生成的 protobuf\n",
    "_protobufCode = jsonUtils.jsonToProtobufCode(_rootName, jsonStr)\n",
    "print(_protobufCode)"
   ]
  }
 ],
 "metadata": {
  "kernelspec": {
   "display_name": "Python 3 (ipykernel)",
   "language": "python",
   "name": "python3"
  },
  "language_info": {
   "codemirror_mode": {
    "name": "ipython",
    "version": 3
   },
   "file_extension": ".py",
   "mimetype": "text/x-python",
   "name": "python",
   "nbconvert_exporter": "python",
   "pygments_lexer": "ipython3",
   "version": "3.10.10"
  }
 },
 "nbformat": 4,
 "nbformat_minor": 1
}
