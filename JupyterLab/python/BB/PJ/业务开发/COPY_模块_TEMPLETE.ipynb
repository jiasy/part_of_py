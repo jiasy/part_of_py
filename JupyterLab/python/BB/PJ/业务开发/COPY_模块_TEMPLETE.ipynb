{
 "cells": [
  {
   "cell_type": "code",
   "execution_count": null,
   "id": "184fe144",
   "metadata": {},
   "outputs": [],
   "source": [
    "from pathlib import Path\n",
    "import os\n",
    "_currentPath = Path(os.getcwd())\n",
    "print('_currentPath = ' + str(_currentPath))"
   ]
  },
  {
   "cell_type": "code",
   "execution_count": null,
   "id": "44a37467-a13d-4b9f-833a-e8888b63fa0a",
   "metadata": {},
   "outputs": [],
   "source": [
    "# 导入Py_Service\n",
    "import sys\n",
    "import os\n",
    "sys.path.append(\"/Users/nobody/Documents/develop/GitHub/Services/PY_Service\")\n",
    "\n",
    "from utils import pyServiceUtils\n",
    "\n",
    "from BB.app.services.BBLua import BBLua\n",
    "from BB.app.services.BBLua.BBLua_CreateLuaFile import BBLua_CreateLuaFile\n",
    "from BB.app.services.BBLua.BBLua_ReleaseCommit import BBLua_ReleaseCommit\n",
    "\n",
    "_svr : BBLua = pyServiceUtils.getSvrByName(\"BB\", \"BBLua\")\n",
    "_createLua : BBLua_CreateLuaFile = pyServiceUtils.getSubSvrByName(\"BB\", \"BBLua\",\"BBLua_CreateLuaFile\")\n",
    "_commitLua : BBLua_ReleaseCommit = pyServiceUtils.getSubSvrByName(\"BB\", \"BBLua\",\"BBLua_ReleaseCommit\")"
   ]
  },
  {
   "cell_type": "code",
   "execution_count": null,
   "id": "189c65e3-c553-41a0-8884-dffe17beb93f",
   "metadata": {},
   "outputs": [],
   "source": [
    "_moduleName = None\n",
    "_logicType = \"INTRNAL\" # \"WEB\" \"NORMAL\" \"INTRNAL\"\n",
    "_pageList = [\n",
    "\n",
    "]\n",
    "_protoList = [\n",
    "\n",
    "]\n",
    "_protoStructList = [\n",
    "\n",
    "]\n",
    "_funcID = None # 功能ID\n",
    "_activityID = None  # 活动ID\n",
    "_common = None # 中文名"
   ]
  },
  {
   "cell_type": "code",
   "execution_count": null,
   "id": "34226655-72cc-4626-b23b-467c99b66e4d",
   "metadata": {},
   "outputs": [],
   "source": [
    "# 生成代码\n",
    "_createLua.createCodeDetail(_moduleName, _logicType, _pageList, _protoList, _protoStructList, _funcID, _activityID, _common)"
   ]
  },
  {
   "cell_type": "code",
   "execution_count": null,
   "id": "7118a1de-cf07-40f9-97ca-42666821dddc",
   "metadata": {},
   "outputs": [],
   "source": [
    "# 复制 模块 相关代码\n",
    "_commitLua.moveToRelease(_moduleName,False)"
   ]
  }
 ],
 "metadata": {
  "kernelspec": {
   "display_name": "Python 3 (ipykernel)",
   "language": "python",
   "name": "python3"
  },
  "language_info": {
   "codemirror_mode": {
    "name": "ipython",
    "version": 3
   },
   "file_extension": ".py",
   "mimetype": "text/x-python",
   "name": "python",
   "nbconvert_exporter": "python",
   "pygments_lexer": "ipython3",
   "version": "3.7.16"
  }
 },
 "nbformat": 4,
 "nbformat_minor": 5
}
