{
 "cells": [
  {
   "cell_type": "code",
   "execution_count": null,
   "id": "6f010173",
   "metadata": {
    "ExecuteTime": {
     "end_time": "2023-04-18T15:25:58.401398Z",
     "start_time": "2023-04-18T15:25:58.399598Z"
    }
   },
   "outputs": [],
   "source": [
    "# 导入Py_Service\n",
    "import sys\n",
    "import os\n",
    "\n",
    "sys.path.append(\"/Users/nobody/Documents/develop/GitHub/Services/PY_Service\")\n",
    "\n",
    "from utils import pyServiceUtils\n",
    "\n",
    "from BB.app.services.BBLua import BBLua\n",
    "from BB.app.services.BBLua.BBLua_CreateLuaFile import BBLua_CreateLuaFile\n",
    "from BB.app.services.BBLua.BBLua_ReleaseCommit import BBLua_ReleaseCommit\n",
    "\n",
    "_svr: BBLua = pyServiceUtils.getSvrByName(\"BB\", \"BBLua\")\n",
    "_createLua: BBLua_CreateLuaFile = pyServiceUtils.getSubSvrByName(\"BB\", \"BBLua\", \"BBLua_CreateLuaFile\")\n",
    "_commitLua: BBLua_ReleaseCommit = pyServiceUtils.getSubSvrByName(\"BB\", \"BBLua\", \"BBLua_ReleaseCommit\")"
   ]
  },
  {
   "cell_type": "code",
   "execution_count": null,
   "id": "189c65e3-c553-41a0-8884-dffe17beb93f",
   "metadata": {
    "ExecuteTime": {
     "end_time": "2023-04-18T15:25:58.404822Z",
     "start_time": "2023-04-18T15:25:58.402544Z"
    }
   },
   "outputs": [],
   "source": [
    "_moduleName = \"BCDefenseTargetReward\"\n",
    "_logicType = \"NORMAL\"  # \"WEB\" \"NORMAL\" \"INTRNAL\"\n",
    "_pageList = [\n",
    "    \"BCDefenseTargetRewardPage\",\n",
    "    \"BCDefenseTargetRewardItem\",\n",
    "]\n",
    "_protoList = [\n",
    "    \"battle_blood_reward\"\n",
    "]\n",
    "_protoStructList = [\n",
    "    \"BaseCampTargetReward\",\n",
    "    \"BaseCampDefense\",\n",
    "]\n",
    "_funcID = 123456  # 功能ID\n",
    "_activityID = None  # 活动ID\n",
    "_common = \"业务名称\"  # 中文名"
   ]
  },
  {
   "cell_type": "code",
   "execution_count": null,
   "id": "34226655-72cc-4626-b23b-467c99b66e4d",
   "metadata": {
    "ExecuteTime": {
     "end_time": "2023-04-18T15:25:58.578371Z",
     "start_time": "2023-04-18T15:25:58.405684Z"
    }
   },
   "outputs": [],
   "source": [
    "# 生成代码\n",
    "_createLua.createCodeDetail(_moduleName, _logicType, _pageList, _protoList, _protoStructList, _funcID, _activityID, _common)"
   ]
  },
  {
   "cell_type": "code",
   "execution_count": null,
   "id": "7118a1de-cf07-40f9-97ca-42666821dddc",
   "metadata": {
    "ExecuteTime": {
     "end_time": "2023-04-18T15:25:58.627761Z",
     "start_time": "2023-04-18T15:25:58.580237Z"
    }
   },
   "outputs": [],
   "source": [
    "_isTW = True\n",
    "# 复制 模块 相关代码\n",
    "_commitLua.moveToRelease(_moduleName, _isTW)\n",
    "# 复制 改动 代码\n",
    "_commitLua.copyRelativeFile(\"Assets/Dev/Lua/ui/page/BaseCampDefense/BCDefenseMainPage.lua\", _isTW)\n",
    "_commitLua.copyRelativeFile(\"Assets/Dev/Lua/Game/Module/AutoRequire/BaseCampDefenseAutoRequire.lua\", _isTW)\n",
    "_commitLua.copyRelativeFile(\"Assets/Dev/Lua/Game/Module/logic/basecampdefense/basecampdefenselogic.lua\", _isTW)"
   ]
  },
  {
   "cell_type": "code",
   "execution_count": null,
   "id": "734f295e",
   "metadata": {
    "ExecuteTime": {
     "end_time": "2023-04-18T15:25:58.849238Z",
     "start_time": "2023-04-18T15:25:58.628994Z"
    }
   },
   "outputs": [],
   "source": [
    "# 拷贝并提交代码\n",
    "_isTW = False\n",
    "# 代码文件和其对应的meta文件\n",
    "_luaFilePath = \"Assets/Dev/Lua/net/protobuflua/battle_blood_reward_pb.lua\"\n",
    "_metaFilePath = f'{_luaFilePath}.meta'\n",
    "# 拷贝 恶念\n",
    "_commitLua.copyRelativeFile(_luaFilePath, _isTW)\n",
    "_commitLua.copyRelativeFile(_metaFilePath, _isTW)\n",
    "# 引用 SVN 工具\n",
    "from Excel.app.services.Svn import Svn\n",
    "\n",
    "_svn: Svn = pyServiceUtils.getSvrByName(\"Excel\", \"Svn\")\n",
    "_svn.svnCommitFileList(_commitLua.getRealPath(_isTW), [_luaFilePath, _metaFilePath], \"WEST-123456 业务名称\")"
   ]
  },
  {
   "cell_type": "code",
   "execution_count": null,
   "id": "ea5c4b08",
   "metadata": {
    "ExecuteTime": {
     "end_time": "2023-04-18T15:25:58.849551Z",
     "start_time": "2023-04-18T15:25:58.833075Z"
    }
   },
   "outputs": [],
   "source": []
  }
 ],
 "metadata": {
  "kernelspec": {
   "display_name": "Python 3 (ipykernel)",
   "language": "python",
   "name": "python3"
  },
  "language_info": {
   "codemirror_mode": {
    "name": "ipython",
    "version": 3
   },
   "file_extension": ".py",
   "mimetype": "text/x-python",
   "name": "python",
   "nbconvert_exporter": "python",
   "pygments_lexer": "ipython3",
   "version": "3.7.16"
  }
 },
 "nbformat": 4,
 "nbformat_minor": 5
}
