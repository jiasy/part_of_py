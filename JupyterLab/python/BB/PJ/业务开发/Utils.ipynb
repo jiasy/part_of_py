{
 "cells": [
  {
   "cell_type": "code",
   "execution_count": null,
   "id": "375edc5a-97ab-4642-9e2c-f67b4b0244af",
   "metadata": {
    "ExecuteTime": {
     "end_time": "2023-04-27T21:57:12.753826Z",
     "start_time": "2023-04-27T21:57:12.244718Z"
    }
   },
   "outputs": [],
   "source": [
    "# 导入Py_Service\n",
    "import sys\n",
    "import os\n",
    "from utils import folderUtils\n",
    "\n",
    "sys.path.append(\"/Users/nobody/Documents/develop/GitHub/Services/PY_Service\")\n",
    "from utils import pyServiceUtils\n",
    "from BB.app.services.BBLua import BBLua\n",
    "from BB.app.services.BBLua.BBLua_ReleaseCommit import BBLua_ReleaseCommit\n",
    "\n",
    "_svr: BBLua = pyServiceUtils.getSvrByName(\"BB\", \"BBLua\")\n",
    "_commitLua: BBLua_ReleaseCommit = pyServiceUtils.getSubSvrByName(\"BB\", \"BBLua\", \"BBLua_ReleaseCommit\")"
   ]
  },
  {
   "cell_type": "code",
   "execution_count": null,
   "id": "653dc78b",
   "metadata": {},
   "outputs": [],
   "source": []
  },
  {
   "cell_type": "code",
   "execution_count": null,
   "id": "4dd64494",
   "metadata": {
    "ExecuteTime": {
     "end_time": "2023-05-16T17:00:39.638011Z",
     "start_time": "2023-05-16T17:00:39.631304Z"
    }
   },
   "outputs": [],
   "source": [
    "# service 代码生成\n",
    "_appName = \"BB\"\n",
    "_svrName = \"BBTs\"\n",
    "_subSvrName = \"BBTs_AnalyseTs\"\n",
    "_codeStr = \"\"\n",
    "_codeStr += \"from {appName}.app.services.{svrName} import {svrName}\\n\".format(appName=_appName, svrName=_svrName)\n",
    "_codeStr += \"from {appName}.app.services.{svrName}.{subSvrName} import {subSvrName}\\n\".format(appName=_appName,\n",
    "                                                                                              svrName=_svrName,\n",
    "                                                                                              subSvrName=_subSvrName)\n",
    "_codeStr += \"_svr : {svrName} = pyServiceUtils.getSvrByName(\\\"{appName}\\\", \\\"{svrName}\\\")\\n\".format(appName=_appName,\n",
    "                                                                                                    svrName=_svrName)\n",
    "_codeStr += \"_subSvr : {subSvrName} = pyServiceUtils.getSubSvrByName(\\\"{appName}\\\", \\\"{svrName}\\\",\\\"{subSvrName}\\\")\\n\".format(\n",
    "    appName=_appName, svrName=_svrName, subSvrName=_subSvrName)\n",
    "print(_codeStr)"
   ]
  },
  {
   "cell_type": "code",
   "execution_count": null,
   "id": "31c31535-e89e-4097-8fb3-745c27ff1554",
   "metadata": {},
   "outputs": [],
   "source": [
    "# 根据文件名的一部分，获取文件的相对路径\n",
    "_partOfNameList = [\n",
    "    \"LoginRewardData\",\n",
    "    \"DailyRechargeData\",\n",
    "    \"TreatyGiftData\",\n",
    "    \"MonthCardTWData\",\n",
    "]\n",
    "_fileList = _commitLua.getRelativePathByFileNameList(_partOfNameList, False)\n",
    "_fileList = list(set(_fileList))\n",
    "# 打印\n",
    "for _idx in range(len(_fileList)):\n",
    "    _commitLua.printCmdRelativePath(_fileList[_idx])"
   ]
  },
  {
   "cell_type": "code",
   "execution_count": null,
   "id": "cf8905f0-8644-4acd-9d07-1623958698c3",
   "metadata": {},
   "outputs": [],
   "source": [
    "# 一些关键字符串，往往是表、活动ID、功能ID、红点事件、枚举定义等\n",
    "_strList = [\n",
    "    \"ACT_ID_WEB_RECHARGE_ADD_2\",\n",
    "    \"WEB_TABLE_ADD_RECHARGE_2\",\n",
    "    \"WebActAddRechargePage_2\",\n",
    "    \"WEB_TABLE_ADD_RECHARGE_Task_2\",\n",
    "]\n",
    "_fileList = _commitLua.printFilePathAndStrInfo(_strList, False)\n",
    "_fileList = list(set(_fileList))\n",
    "# 打印\n",
    "for _idx in range(len(_fileList)):\n",
    "    _commitLua.printCmdRelativePath(_fileList[_idx])"
   ]
  },
  {
   "cell_type": "code",
   "execution_count": null,
   "id": "2fd775b9",
   "metadata": {},
   "outputs": [],
   "source": [
    "# 拷贝并提交代码\n",
    "_isTW = False\n",
    "# 代码文件和其对应的meta文件\n",
    "_luaFilePath = \"Assets/Dev/Lua/net/protobuflua/battle_blood_reward_pb.lua\"\n",
    "_metaFilePath = f'{_luaFilePath}.meta'\n",
    "# 拷贝 恶念\n",
    "_commitLua.copyRelativeFile(_luaFilePath, _isTW)\n",
    "_commitLua.copyRelativeFile(_metaFilePath, _isTW)\n",
    "# 引用 SVN 工具\n",
    "from Excel.app.services.Svn import Svn\n",
    "\n",
    "_svn: Svn = pyServiceUtils.getSvrByName(\"Excel\", \"Svn\")\n",
    "_svn.svnCommitFileList(_commitLua.getRealPath(_isTW), [_luaFilePath, _metaFilePath], \"WEST-654321 业务名\")"
   ]
  },
  {
   "cell_type": "code",
   "execution_count": null,
   "id": "bbb320a6",
   "metadata": {
    "ExecuteTime": {
     "end_time": "2023-04-19T18:23:48.640000Z",
     "start_time": "2023-04-19T18:23:48.637200Z"
    }
   },
   "outputs": [],
   "source": [
    "# 拷贝并提交代码\n",
    "_isTW = True\n",
    "_commitLua.copyRelativeFile(\"Assets/Editor/ArtResourcesTools/ArtResourceEdit.cs\", _isTW)"
   ]
  },
  {
   "cell_type": "code",
   "execution_count": null,
   "id": "22a44d46",
   "metadata": {
    "ExecuteTime": {
     "end_time": "2023-04-25T20:59:30.499468Z",
     "start_time": "2023-04-25T20:59:29.315800Z"
    }
   },
   "outputs": [],
   "source": [
    "_isTW = True\n",
    "# 道具修改\n",
    "_strList = [\n",
    "    \"PLDSUtils.showItemList(\",\n",
    "]\n",
    "_fileList = _commitLua.printFilePathAndStrInfo(_strList, False)\n",
    "_fileList = list(set(_fileList))\n",
    "# 打印\n",
    "for _idx in range(len(_fileList)):\n",
    "    _commitLua.printCmdRelativePath(_fileList[_idx], _isTW)\n"
   ]
  },
  {
   "cell_type": "code",
   "execution_count": null,
   "id": "a95db899",
   "metadata": {
    "ExecuteTime": {
     "end_time": "2023-04-25T21:32:26.618720Z",
     "start_time": "2023-04-25T21:32:25.567826Z"
    }
   },
   "outputs": [],
   "source": []
  },
  {
   "cell_type": "code",
   "execution_count": null,
   "id": "a648c972",
   "metadata": {},
   "outputs": [],
   "source": []
  }
 ],
 "metadata": {
  "kernelspec": {
   "display_name": "Python 3 (ipykernel)",
   "language": "python",
   "name": "python3"
  },
  "language_info": {
   "codemirror_mode": {
    "name": "ipython",
    "version": 3
   },
   "file_extension": ".py",
   "mimetype": "text/x-python",
   "name": "python",
   "nbconvert_exporter": "python",
   "pygments_lexer": "ipython3",
   "version": "3.7.16"
  }
 },
 "nbformat": 4,
 "nbformat_minor": 5
}
