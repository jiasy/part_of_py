{
 "cells": [
  {
   "cell_type": "code",
   "execution_count": null,
   "metadata": {
    "ExecuteTime": {
     "end_time": "2023-04-18T15:37:07.684458Z",
     "start_time": "2023-04-18T15:37:07.487043Z"
    }
   },
   "outputs": [],
   "source": [
    "# 导入Py_Service\n",
    "import sys\n",
    "import os\n",
    "\n",
    "sys.path.append(\"/Users/nobody/Documents/develop/GitHub/Services/PY_Service\")\n",
    "\n",
    "from utils import pyServiceUtils\n",
    "\n",
    "from BB.app.services.BBLua import BBLua\n",
    "from BB.app.services.BBLua.BBLua_CreateLuaFile import BBLua_CreateLuaFile\n",
    "from BB.app.services.BBLua.BBLua_ReleaseCommit import BBLua_ReleaseCommit\n",
    "\n",
    "_svr: BBLua = pyServiceUtils.getSvrByName(\"BB\", \"BBLua\")\n",
    "_createLua: BBLua_CreateLuaFile = pyServiceUtils.getSubSvrByName(\"BB\", \"BBLua\", \"BBLua_CreateLuaFile\")\n",
    "_commitLua: BBLua_ReleaseCommit = pyServiceUtils.getSubSvrByName(\"BB\", \"BBLua\", \"BBLua_ReleaseCommit\")"
   ]
  },
  {
   "cell_type": "code",
   "execution_count": null,
   "metadata": {
    "ExecuteTime": {
     "end_time": "2023-04-18T15:37:51.629836Z",
     "start_time": "2023-04-18T15:37:51.581648Z"
    }
   },
   "outputs": [],
   "source": [
    "from utils import fileUtils\n",
    "from utils import dictUtils\n",
    "\n",
    "# 工程信息\n",
    "# _projectPath = _commitLua.developPath\n",
    "# _projectPath = _commitLua.twReleasePath\n",
    "_projectPath = _commitLua.releasePath\n",
    "# DB 和 表名的关系\n",
    "_manifestPath = os.path.join(_projectPath, \"Assets/Dev/sqlite/Manifest_DB.json\")\n",
    "# DB 放置的路径\n",
    "_dbFolderPath = os.path.join(_projectPath, \"Assets/Dev/sqlite\")\n",
    "# 目标表名\n",
    "_targetTableName = \" BaseCampTargetReward\"\n",
    "# DB 关系\n",
    "_manifestList = fileUtils.dictFromJsonFile(_manifestPath)\n",
    "# 显示结构\n",
    "dictUtils.showDictStructure(_manifestList)\n",
    "\n",
    "_dbPath = None\n",
    "for _idx in range(len(_manifestList)):\n",
    "    _manifest = _manifestList[_idx]\n",
    "    if _manifest[\"ConfName\"] == _targetTableName:\n",
    "        _dbPath = os.path.join(_dbFolderPath, _manifest[\"ConfFile\"])\n",
    "        print(_dbPath)"
   ]
  },
  {
   "cell_type": "code",
   "execution_count": null,
   "metadata": {
    "ExecuteTime": {
     "end_time": "2023-04-18T15:37:55.678203Z",
     "start_time": "2023-04-18T15:37:55.675272Z"
    }
   },
   "outputs": [],
   "source": [
    "import sqlite3\n",
    "if _dbPath is None:\n",
    "    print(\"数据库不存在\")\n",
    "else:\n",
    "    # 连接到数据库\n",
    "    _conn = sqlite3.connect(_dbPath)\n",
    "    _cursor = _conn.cursor()\n",
    "    _cursor.execute(\"SELECT name FROM sqlite_master WHERE type='table' AND name='{}'\".format(_targetTableName))  # 替换为需要查询的表名\n",
    "    _tableExists = _cursor.fetchone() is not None\n",
    "    if _tableExists:\n",
    "        print(_targetTableName + \" 在 \" + _dbPath + \" 中\")\n",
    "    else:\n",
    "        print(_targetTableName + \" 不在 \" + _dbPath + \" 中\")\n",
    "    # 关闭数据库连接\n",
    "    _conn.close()"
   ]
  },
  {
   "cell_type": "code",
   "execution_count": null,
   "metadata": {
    "ExecuteTime": {
     "end_time": "2023-04-12T14:35:15.662149Z",
     "start_time": "2023-04-12T14:35:15.660832Z"
    }
   },
   "outputs": [],
   "source": []
  }
 ],
 "metadata": {
  "kernelspec": {
   "display_name": "Python 3",
   "language": "python",
   "name": "python3"
  },
  "language_info": {
   "codemirror_mode": {
    "name": "ipython",
    "version": 2
   },
   "file_extension": ".py",
   "mimetype": "text/x-python",
   "name": "python",
   "nbconvert_exporter": "python",
   "pygments_lexer": "ipython2",
   "version": "2.7.6"
  }
 },
 "nbformat": 4,
 "nbformat_minor": 0
}
