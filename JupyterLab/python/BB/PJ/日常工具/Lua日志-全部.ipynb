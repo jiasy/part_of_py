{
 "cells": [
  {
   "cell_type": "code",
   "execution_count": null,
   "metadata": {
    "ExecuteTime": {
     "end_time": "2023-04-18T17:52:42.342951Z",
     "start_time": "2023-04-18T17:51:59.249495Z"
    }
   },
   "outputs": [],
   "source": [
    "# 导入Py_Service\n",
    "import sys\n",
    "sys.path.append(\"/Users/nobody/Documents/develop/GitHub/Services/PY_Service\")\n",
    "\n",
    "from utils import pyServiceUtils\n",
    "from Unity.app.services.UnityLuaAnalyse import UnityLuaAnalyse_PJ\n",
    "from Unity.app.services.UnityLuaAnalyse.UnityLuaAnalyse import UnityLuaAnalyse\n",
    "\n",
    "# 给 Battle 增加日志\n",
    "_unityLuaAnalyse : UnityLuaAnalyse = pyServiceUtils.getSvrByName(\"Unity\", \"UnityLuaAnalyse\")\n",
    "UnityLuaAnalyse_PJ.addStackLogFrameWork(_unityLuaAnalyse)"
   ]
  },
  {
   "cell_type": "code",
   "execution_count": null,
   "metadata": {
    "ExecuteTime": {
     "end_time": "2023-04-18T17:52:42.345952Z",
     "start_time": "2023-04-18T17:52:42.343931Z"
    }
   },
   "outputs": [],
   "source": []
  }
 ],
 "metadata": {
  "kernelspec": {
   "display_name": "Python 3",
   "language": "python",
   "name": "python3"
  },
  "language_info": {
   "codemirror_mode": {
    "name": "ipython",
    "version": 2
   },
   "file_extension": ".py",
   "mimetype": "text/x-python",
   "name": "python",
   "nbconvert_exporter": "python",
   "pygments_lexer": "ipython2",
   "version": "2.7.6"
  }
 },
 "nbformat": 4,
 "nbformat_minor": 0
}
