{
 "cells": [
  {
   "cell_type": "code",
   "execution_count": null,
   "metadata": {
    "ExecuteTime": {
     "end_time": "2023-04-25T14:44:07.739820Z",
     "start_time": "2023-04-25T14:44:07.546749Z"
    }
   },
   "outputs": [],
   "source": [
    "# 导入Py_Service\n",
    "import sys\n",
    "\n",
    "sys.path.append(\"/Users/nobody/Documents/develop/GitHub/Services/PY_Service\")\n",
    "# 导入工具\n",
    "from utils import fileCopyUtils\n",
    "import os\n",
    "\n",
    "# 各个工程目录\n",
    "_developProjectPath = \"/Volumes/File/develop/SB/wp_client/\"\n",
    "_releaseProjectPath = \"/Volumes/File/develop/SB/client_branches/release/release/\"\n",
    "_twReleaseProjectPath = \"/Volumes/File/develop/SB/client_branches/twRelease/release/release/\""
   ]
  },
  {
   "cell_type": "code",
   "execution_count": null,
   "metadata": {
    "ExecuteTime": {
     "end_time": "2023-04-25T14:44:07.811640Z",
     "start_time": "2023-04-25T14:44:07.740179Z"
    }
   },
   "outputs": [],
   "source": [
    "# 字体工具相对路径\n",
    "_fontUtilsRelativePath = \"Assets/Editor/ArtResourcesTools/ArtResourceEdit.cs\"\n",
    "# 提交到分支\n",
    "fileCopyUtils.copyFile(\n",
    "    os.path.join(_developProjectPath, _fontUtilsRelativePath),\n",
    "    os.path.join(_releaseProjectPath, _fontUtilsRelativePath)\n",
    ")\n",
    "# 提交到台湾分支\n",
    "fileCopyUtils.copyFile(\n",
    "    os.path.join(_developProjectPath, _fontUtilsRelativePath),\n",
    "    os.path.join(_twReleaseProjectPath, _fontUtilsRelativePath)\n",
    ")"
   ]
  },
  {
   "cell_type": "code",
   "execution_count": null,
   "metadata": {
    "ExecuteTime": {
     "end_time": "2023-04-25T14:44:07.813983Z",
     "start_time": "2023-04-25T14:44:07.811930Z"
    }
   },
   "outputs": [],
   "source": []
  }
 ],
 "metadata": {
  "kernelspec": {
   "display_name": "Python 3",
   "language": "python",
   "name": "python3"
  },
  "language_info": {
   "codemirror_mode": {
    "name": "ipython",
    "version": 2
   },
   "file_extension": ".py",
   "mimetype": "text/x-python",
   "name": "python",
   "nbconvert_exporter": "python",
   "pygments_lexer": "ipython2",
   "version": "2.7.6"
  }
 },
 "nbformat": 4,
 "nbformat_minor": 0
}
