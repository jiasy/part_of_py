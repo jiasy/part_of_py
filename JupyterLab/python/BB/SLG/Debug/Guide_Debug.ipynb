{
 "cells": [
  {
   "cell_type": "code",
   "execution_count": null,
   "metadata": {
    "ExecuteTime": {
     "end_time": "2023-11-02T11:01:10.954836Z",
     "start_time": "2023-11-02T11:01:09.846729Z"
    }
   },
   "outputs": [],
   "source": [
    "# 导入Py_Service\n",
    "import asyncio\n",
    "import websockets\n",
    "import nest_asyncio\n",
    "import sys\n",
    "from utils import cmdUtils\n",
    "from utils import folderUtils\n",
    "from utils import fileUtils\n",
    "import re\n",
    "\n",
    "nest_asyncio.apply()\n",
    "\n",
    "\n",
    "async def listen_for_connection(uri, timeout):\n",
    "    start_time = asyncio.get_event_loop().time()\n",
    "    while True:\n",
    "        try:\n",
    "            async with websockets.connect(uri) as websocket:\n",
    "                print(\"发现服务\")\n",
    "                return\n",
    "        except (ConnectionRefusedError, OSError):\n",
    "            if (asyncio.get_event_loop().time() - start_time) > timeout:\n",
    "                print(\"未能在指定时间内发现指定端口的 websocket 服务\")\n",
    "                sys.exit(1)\n",
    "            else:\n",
    "                await asyncio.sleep(1)\n",
    "\n",
    "\n",
    "async def is_websocket_service_available(uri):\n",
    "    try:\n",
    "        async with websockets.connect(uri) as websocket:\n",
    "            return True\n",
    "    except (ConnectionRefusedError, OSError):\n",
    "        return False\n",
    "\n",
    "\n",
    "async def waitForSecond(sec: int):\n",
    "    await asyncio.sleep(sec)\n",
    "\n",
    "\n",
    "sys.path.append(\"/Users/nobody/Documents/develop/GitHub/Services/PY_Service\")\n",
    "from utils import pyServiceUtils\n",
    "\n",
    "from BB.app.services.BBTs.BBTs_V8_Debugger import BBTs_V8_Debugger\n",
    "\n",
    "from BB.app.services.BBTs.BBTs_Config.BBTs_Config_Check_GameGuide import openExcelMarkStep\n",
    "from BB.app.services.BBTs.BBTs_Config.BBTs_Config import BBTs_Config\n",
    "from utils.CompanyUtil import Company_BB_Utils\n",
    "import os\n",
    "\n",
    "_bbtsConfig: BBTs_Config = pyServiceUtils.getSubSvrByName(\"BB\", \"BBTs\", \"BBTs_Config\")\n",
    "\n",
    "_v8_Debugger: BBTs_V8_Debugger = pyServiceUtils.getSubSvrByName(\"BB\", \"BBTs\", \"BBTs_V8_Debugger\")\n",
    "_uri = \"ws://localhost:8080\"\n",
    "\n",
    "_excelFolderPath = os.path.join(Company_BB_Utils.getSLGProjectPath(), \"svn_repos/trunk/design/excel\")\n",
    "_fguiAssetFolderPath = os.path.join(Company_BB_Utils.getSLGProjectPath(), \"svn_repos/trunk/project_fgui/proj/assets/\")"
   ]
  },
  {
   "cell_type": "code",
   "execution_count": null,
   "metadata": {
    "ExecuteTime": {
     "end_time": "2023-11-02T11:33:49.221754Z",
     "start_time": "2023-11-02T11:33:49.021453Z"
    }
   },
   "outputs": [],
   "source": [
    "# 创建新账号，清理日志，设置引导标签，重新启动js\n",
    "_v8_Debugger.reGuide();"
   ]
  },
  {
   "cell_type": "markdown",
   "metadata": {
    "collapsed": false
   },
   "source": []
  },
  {
   "cell_type": "code",
   "execution_count": null,
   "metadata": {
    "ExecuteTime": {
     "end_time": "2023-11-01T16:08:57.088578Z",
     "start_time": "2023-11-01T16:08:51.899786Z"
    }
   },
   "outputs": [],
   "source": [
    "# 打开 Excel 找到并定位 Step ，将其相关联的 Group 和 Guide 标记上默认颜色。\n",
    "targetStep = 280103\n",
    "openExcelMarkStep(_bbtsConfig, _fguiAssetFolderPath, _excelFolderPath, \"GameGuide\", targetStep)"
   ]
  },
  {
   "cell_type": "code",
   "execution_count": null,
   "metadata": {
    "ExecuteTime": {
     "end_time": "2023-11-01T16:08:57.091421Z",
     "start_time": "2023-11-01T16:08:57.088727Z"
    }
   },
   "outputs": [],
   "source": []
  }
 ],
 "metadata": {
  "kernelspec": {
   "display_name": "Python 3",
   "language": "python",
   "name": "python3"
  },
  "language_info": {
   "codemirror_mode": {
    "name": "ipython",
    "version": 2
   },
   "file_extension": ".py",
   "mimetype": "text/x-python",
   "name": "python",
   "nbconvert_exporter": "python",
   "pygments_lexer": "ipython2",
   "version": "2.7.6"
  }
 },
 "nbformat": 4,
 "nbformat_minor": 0
}
