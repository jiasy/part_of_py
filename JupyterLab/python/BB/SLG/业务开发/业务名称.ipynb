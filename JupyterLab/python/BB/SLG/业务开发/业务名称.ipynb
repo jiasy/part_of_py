{
 "cells": [
  {
   "cell_type": "code",
   "execution_count": 1,
   "metadata": {
    "collapsed": true,
    "ExecuteTime": {
     "start_time": "2024-01-23T14:32:19.234989Z",
     "end_time": "2024-01-23T14:32:19.851180Z"
    }
   },
   "outputs": [],
   "source": [
    "# 导入Py_Service\n",
    "import sys\n",
    "import os\n",
    "\n",
    "sys.path.append(\"/Users/nobody/Documents/develop/GitHub/Services/PY_Service\")\n",
    "from utils import pyServiceUtils\n",
    "from utils.CompanyUtil import Company_BB_Utils\n",
    "\n",
    "from BB.app.services.BBTs import BBTs\n",
    "from BB.app.services.BBTs.BBTs_Project import BBTs_Project\n",
    "\n",
    "_svr: BBTs = pyServiceUtils.getSvrByName(\"BB\", \"BBTs\")\n",
    "_bbProject: BBTs_Project = pyServiceUtils.getSubSvrByName(\"BB\", \"BBTs\", \"BBTs_Project\")\n",
    "\n",
    "from BB.app.services.BBTs.BBProtoStructTS import BBProtoStructTS\n",
    "\n",
    "_bbProtoStructTS: BBProtoStructTS = pyServiceUtils.getSubSvrByName(\"BB\", \"BBTs\", \"BBProtoStructTS\")\n",
    "\n",
    "from FGUI.app.services.CutManToFGUI import CutManToFGUI\n",
    "\n",
    "_cutManToFGUI: CutManToFGUI = pyServiceUtils.getSvrByName(\"FGUI\", \"CutManToFGUI\")"
   ]
  },
  {
   "cell_type": "code",
   "execution_count": 2,
   "outputs": [
    {
     "ename": "TypeError",
     "evalue": "expected str, bytes or os.PathLike object, not NoneType",
     "output_type": "error",
     "traceback": [
      "\u001B[0;31m---------------------------------------------------------------------------\u001B[0m",
      "\u001B[0;31mTypeError\u001B[0m                                 Traceback (most recent call last)",
      "Cell \u001B[0;32mIn[2], line 1\u001B[0m\n\u001B[0;32m----> 1\u001B[0m \u001B[43m_cutManToFGUI\u001B[49m\u001B[38;5;241;43m.\u001B[39;49m\u001B[43mcreatePackageWithUI\u001B[49m\u001B[43m(\u001B[49m\u001B[38;5;124;43m\"\u001B[39;49m\u001B[38;5;124;43mScience\u001B[39;49m\u001B[38;5;124;43m\"\u001B[39;49m\u001B[43m,\u001B[49m\u001B[43m \u001B[49m\u001B[43m{\u001B[49m\n\u001B[1;32m      2\u001B[0m \u001B[43m    \u001B[49m\u001B[38;5;124;43m\"\u001B[39;49m\u001B[38;5;124;43m_ScienceTree_Alliance_Layer\u001B[39;49m\u001B[38;5;124;43m\"\u001B[39;49m\u001B[43m:\u001B[49m\u001B[43m \u001B[49m\u001B[43m[\u001B[49m\n\u001B[1;32m      3\u001B[0m \u001B[43m        \u001B[49m\u001B[43mos\u001B[49m\u001B[38;5;241;43m.\u001B[39;49m\u001B[43mpath\u001B[49m\u001B[38;5;241;43m.\u001B[39;49m\u001B[43mjoin\u001B[49m\u001B[43m(\u001B[49m\u001B[43mCompany_BB_Utils\u001B[49m\u001B[38;5;241;43m.\u001B[39;49m\u001B[43mgetSLGProjectPath\u001B[49m\u001B[43m(\u001B[49m\u001B[43m)\u001B[49m\u001B[43m,\u001B[49m\u001B[43m \u001B[49m\u001B[38;5;124;43m\"\u001B[39;49m\u001B[38;5;124;43msvn_repos/trunk/doc/art/UI/alpha/效果图/联盟科技/联盟科技_a_01\u001B[39;49m\u001B[38;5;124;43m\"\u001B[39;49m\u001B[43m)\u001B[49m\u001B[43m,\u001B[49m\n\u001B[1;32m      4\u001B[0m \u001B[43m    \u001B[49m\u001B[43m]\u001B[49m\u001B[43m,\u001B[49m\n\u001B[1;32m      5\u001B[0m \u001B[43m    \u001B[49m\u001B[38;5;124;43m\"\u001B[39;49m\u001B[38;5;124;43mScience_Alliance_TipLayer\u001B[39;49m\u001B[38;5;124;43m\"\u001B[39;49m\u001B[43m:\u001B[49m\u001B[43m \u001B[49m\u001B[43m[\u001B[49m\n\u001B[1;32m      6\u001B[0m \u001B[43m        \u001B[49m\u001B[43mos\u001B[49m\u001B[38;5;241;43m.\u001B[39;49m\u001B[43mpath\u001B[49m\u001B[38;5;241;43m.\u001B[39;49m\u001B[43mjoin\u001B[49m\u001B[43m(\u001B[49m\u001B[43mCompany_BB_Utils\u001B[49m\u001B[38;5;241;43m.\u001B[39;49m\u001B[43mgetSLGProjectPath\u001B[49m\u001B[43m(\u001B[49m\u001B[43m)\u001B[49m\u001B[43m,\u001B[49m\u001B[43m \u001B[49m\u001B[38;5;124;43m\"\u001B[39;49m\u001B[38;5;124;43msvn_repos/trunk/doc/art/UI/alpha/效果图/联盟科技/联盟科技_弹窗_a_01\u001B[39;49m\u001B[38;5;124;43m\"\u001B[39;49m\u001B[43m)\u001B[49m\u001B[43m,\u001B[49m\n\u001B[1;32m      7\u001B[0m \u001B[43m        \u001B[49m\u001B[43mos\u001B[49m\u001B[38;5;241;43m.\u001B[39;49m\u001B[43mpath\u001B[49m\u001B[38;5;241;43m.\u001B[39;49m\u001B[43mjoin\u001B[49m\u001B[43m(\u001B[49m\u001B[43mCompany_BB_Utils\u001B[49m\u001B[38;5;241;43m.\u001B[39;49m\u001B[43mgetSLGProjectPath\u001B[49m\u001B[43m(\u001B[49m\u001B[43m)\u001B[49m\u001B[43m,\u001B[49m\u001B[43m \u001B[49m\u001B[38;5;124;43m\"\u001B[39;49m\u001B[38;5;124;43msvn_repos/trunk/doc/art/UI/alpha/效果图/联盟科技/联盟科技_弹窗_a_02\u001B[39;49m\u001B[38;5;124;43m\"\u001B[39;49m\u001B[43m)\u001B[49m\u001B[43m,\u001B[49m\n\u001B[1;32m      8\u001B[0m \u001B[43m        \u001B[49m\u001B[43mos\u001B[49m\u001B[38;5;241;43m.\u001B[39;49m\u001B[43mpath\u001B[49m\u001B[38;5;241;43m.\u001B[39;49m\u001B[43mjoin\u001B[49m\u001B[43m(\u001B[49m\u001B[43mCompany_BB_Utils\u001B[49m\u001B[38;5;241;43m.\u001B[39;49m\u001B[43mgetSLGProjectPath\u001B[49m\u001B[43m(\u001B[49m\u001B[43m)\u001B[49m\u001B[43m,\u001B[49m\u001B[43m \u001B[49m\u001B[38;5;124;43m\"\u001B[39;49m\u001B[38;5;124;43msvn_repos/trunk/doc/art/UI/alpha/效果图/联盟科技/联盟科技_弹窗_b_01\u001B[39;49m\u001B[38;5;124;43m\"\u001B[39;49m\u001B[43m)\u001B[49m\u001B[43m,\u001B[49m\n\u001B[1;32m      9\u001B[0m \u001B[43m    \u001B[49m\u001B[43m]\u001B[49m\u001B[43m,\u001B[49m\n\u001B[1;32m     10\u001B[0m \u001B[43m    \u001B[49m\u001B[38;5;124;43m\"\u001B[39;49m\u001B[38;5;124;43mScience_Alliance__TipLayer\u001B[39;49m\u001B[38;5;124;43m\"\u001B[39;49m\u001B[43m:\u001B[49m\u001B[43m \u001B[49m\u001B[43m[\u001B[49m\n\u001B[1;32m     11\u001B[0m \u001B[43m        \u001B[49m\u001B[43mos\u001B[49m\u001B[38;5;241;43m.\u001B[39;49m\u001B[43mpath\u001B[49m\u001B[38;5;241;43m.\u001B[39;49m\u001B[43mjoin\u001B[49m\u001B[43m(\u001B[49m\u001B[43mCompany_BB_Utils\u001B[49m\u001B[38;5;241;43m.\u001B[39;49m\u001B[43mgetSLGProjectPath\u001B[49m\u001B[43m(\u001B[49m\u001B[43m)\u001B[49m\u001B[43m,\u001B[49m\u001B[43m \u001B[49m\u001B[38;5;124;43m\"\u001B[39;49m\u001B[38;5;124;43msvn_repos/trunk/doc/art/UI/alpha/效果图/联盟科技/联盟科技_弹窗_c_01\u001B[39;49m\u001B[38;5;124;43m\"\u001B[39;49m\u001B[43m)\u001B[49m\u001B[43m,\u001B[49m\n\u001B[1;32m     12\u001B[0m \u001B[43m        \u001B[49m\u001B[43mos\u001B[49m\u001B[38;5;241;43m.\u001B[39;49m\u001B[43mpath\u001B[49m\u001B[38;5;241;43m.\u001B[39;49m\u001B[43mjoin\u001B[49m\u001B[43m(\u001B[49m\u001B[43mCompany_BB_Utils\u001B[49m\u001B[38;5;241;43m.\u001B[39;49m\u001B[43mgetSLGProjectPath\u001B[49m\u001B[43m(\u001B[49m\u001B[43m)\u001B[49m\u001B[43m,\u001B[49m\u001B[43m \u001B[49m\u001B[38;5;124;43m\"\u001B[39;49m\u001B[38;5;124;43msvn_repos/trunk/doc/art/UI/alpha/效果图/联盟科技/联盟科技_弹窗_c_02\u001B[39;49m\u001B[38;5;124;43m\"\u001B[39;49m\u001B[43m)\u001B[49m\u001B[43m,\u001B[49m\n\u001B[1;32m     13\u001B[0m \u001B[43m        \u001B[49m\u001B[43mos\u001B[49m\u001B[38;5;241;43m.\u001B[39;49m\u001B[43mpath\u001B[49m\u001B[38;5;241;43m.\u001B[39;49m\u001B[43mjoin\u001B[49m\u001B[43m(\u001B[49m\u001B[43mCompany_BB_Utils\u001B[49m\u001B[38;5;241;43m.\u001B[39;49m\u001B[43mgetSLGProjectPath\u001B[49m\u001B[43m(\u001B[49m\u001B[43m)\u001B[49m\u001B[43m,\u001B[49m\u001B[43m \u001B[49m\u001B[38;5;124;43m\"\u001B[39;49m\u001B[38;5;124;43msvn_repos/trunk/doc/art/UI/alpha/效果图/联盟科技/联盟科技_弹窗_c_03\u001B[39;49m\u001B[38;5;124;43m\"\u001B[39;49m\u001B[43m)\u001B[49m\u001B[43m,\u001B[49m\n\u001B[1;32m     14\u001B[0m \u001B[43m        \u001B[49m\u001B[43mos\u001B[49m\u001B[38;5;241;43m.\u001B[39;49m\u001B[43mpath\u001B[49m\u001B[38;5;241;43m.\u001B[39;49m\u001B[43mjoin\u001B[49m\u001B[43m(\u001B[49m\u001B[43mCompany_BB_Utils\u001B[49m\u001B[38;5;241;43m.\u001B[39;49m\u001B[43mgetSLGProjectPath\u001B[49m\u001B[43m(\u001B[49m\u001B[43m)\u001B[49m\u001B[43m,\u001B[49m\u001B[43m \u001B[49m\u001B[38;5;124;43m\"\u001B[39;49m\u001B[38;5;124;43msvn_repos/trunk/doc/art/UI/alpha/效果图/联盟科技/联盟科技_弹窗_c_04\u001B[39;49m\u001B[38;5;124;43m\"\u001B[39;49m\u001B[43m)\u001B[49m\u001B[43m,\u001B[49m\n\u001B[1;32m     15\u001B[0m \u001B[43m    \u001B[49m\u001B[43m]\u001B[49m\u001B[43m,\u001B[49m\n\u001B[1;32m     16\u001B[0m \u001B[43m}\u001B[49m\u001B[43m)\u001B[49m\n",
      "File \u001B[0;32m~/Documents/develop/GitHub/Services/PY_Service/FGUI/app/services/CutManToFGUI/CutManToFGUI.py:334\u001B[0m, in \u001B[0;36mCutManToFGUI.createPackageWithUI\u001B[0;34m(self, moduleName_, uiLayerToCutManJsonDict)\u001B[0m\n\u001B[1;32m    332\u001B[0m \u001B[38;5;28;01mdef\u001B[39;00m \u001B[38;5;21mcreatePackageWithUI\u001B[39m(\u001B[38;5;28mself\u001B[39m, moduleName_: \u001B[38;5;28mstr\u001B[39m, uiLayerToCutManJsonDict: \u001B[38;5;28mstr\u001B[39m):\n\u001B[1;32m    333\u001B[0m     \u001B[38;5;66;03m# 获取 当前要修改的包\u001B[39;00m\n\u001B[0;32m--> 334\u001B[0m     \u001B[38;5;28mself\u001B[39m\u001B[38;5;241m.\u001B[39mfguiPackage \u001B[38;5;241m=\u001B[39m \u001B[43mFGUIPackage\u001B[49m\u001B[43m(\u001B[49m\u001B[38;5;28;43mself\u001B[39;49m\u001B[38;5;241;43m.\u001B[39;49m\u001B[43massetFolder\u001B[49m\u001B[43m,\u001B[49m\u001B[43m \u001B[49m\u001B[43mmoduleName_\u001B[49m\u001B[43m)\u001B[49m\n\u001B[1;32m    335\u001B[0m     \u001B[38;5;66;03m# 获取当前包信息\u001B[39;00m\n\u001B[1;32m    336\u001B[0m     \u001B[38;5;28;01mif\u001B[39;00m \u001B[38;5;129;01mnot\u001B[39;00m \u001B[38;5;28mself\u001B[39m\u001B[38;5;241m.\u001B[39mfguiPackage\u001B[38;5;241m.\u001B[39misNew:\n",
      "File \u001B[0;32m~/Documents/develop/GitHub/Services/PY_Service/FGUI/FGUIPackage.py:92\u001B[0m, in \u001B[0;36mFGUIPackage.__init__\u001B[0;34m(self, fguiAssetFolder_, packageName_, project_)\u001B[0m\n\u001B[1;32m     90\u001B[0m \u001B[38;5;28mself\u001B[39m\u001B[38;5;241m.\u001B[39massetFolder \u001B[38;5;241m=\u001B[39m fguiAssetFolder_\n\u001B[1;32m     91\u001B[0m \u001B[38;5;28mself\u001B[39m\u001B[38;5;241m.\u001B[39mpkgName \u001B[38;5;241m=\u001B[39m packageName_\n\u001B[0;32m---> 92\u001B[0m \u001B[38;5;28mself\u001B[39m\u001B[38;5;241m.\u001B[39mpackageXmlPath \u001B[38;5;241m=\u001B[39m \u001B[43mos\u001B[49m\u001B[38;5;241;43m.\u001B[39;49m\u001B[43mpath\u001B[49m\u001B[38;5;241;43m.\u001B[39;49m\u001B[43mjoin\u001B[49m\u001B[43m(\u001B[49m\u001B[38;5;28;43mself\u001B[39;49m\u001B[38;5;241;43m.\u001B[39;49m\u001B[43massetFolder\u001B[49m\u001B[43m,\u001B[49m\u001B[43m \u001B[49m\u001B[43mpackageName_\u001B[49m\u001B[43m,\u001B[49m\u001B[43m \u001B[49m\u001B[38;5;124;43m\"\u001B[39;49m\u001B[38;5;124;43mpackage.xml\u001B[39;49m\u001B[38;5;124;43m\"\u001B[39;49m\u001B[43m)\u001B[49m\n\u001B[1;32m     93\u001B[0m \u001B[38;5;28mself\u001B[39m\u001B[38;5;241m.\u001B[39misNew \u001B[38;5;241m=\u001B[39m \u001B[38;5;28;01mNone\u001B[39;00m  \u001B[38;5;66;03m# 是否新建\u001B[39;00m\n\u001B[1;32m     94\u001B[0m \u001B[38;5;28mself\u001B[39m\u001B[38;5;241m.\u001B[39mxmlDict \u001B[38;5;241m=\u001B[39m \u001B[38;5;28;01mNone\u001B[39;00m  \u001B[38;5;66;03m# 内容\u001B[39;00m\n",
      "File \u001B[0;32m~/anaconda3/envs/py_3_10/lib/python3.10/posixpath.py:76\u001B[0m, in \u001B[0;36mjoin\u001B[0;34m(a, *p)\u001B[0m\n\u001B[1;32m     71\u001B[0m \u001B[38;5;28;01mdef\u001B[39;00m \u001B[38;5;21mjoin\u001B[39m(a, \u001B[38;5;241m*\u001B[39mp):\n\u001B[1;32m     72\u001B[0m \u001B[38;5;250m    \u001B[39m\u001B[38;5;124;03m\"\"\"Join two or more pathname components, inserting '/' as needed.\u001B[39;00m\n\u001B[1;32m     73\u001B[0m \u001B[38;5;124;03m    If any component is an absolute path, all previous path components\u001B[39;00m\n\u001B[1;32m     74\u001B[0m \u001B[38;5;124;03m    will be discarded.  An empty last part will result in a path that\u001B[39;00m\n\u001B[1;32m     75\u001B[0m \u001B[38;5;124;03m    ends with a separator.\"\"\"\u001B[39;00m\n\u001B[0;32m---> 76\u001B[0m     a \u001B[38;5;241m=\u001B[39m \u001B[43mos\u001B[49m\u001B[38;5;241;43m.\u001B[39;49m\u001B[43mfspath\u001B[49m\u001B[43m(\u001B[49m\u001B[43ma\u001B[49m\u001B[43m)\u001B[49m\n\u001B[1;32m     77\u001B[0m     sep \u001B[38;5;241m=\u001B[39m _get_sep(a)\n\u001B[1;32m     78\u001B[0m     path \u001B[38;5;241m=\u001B[39m a\n",
      "\u001B[0;31mTypeError\u001B[0m: expected str, bytes or os.PathLike object, not NoneType"
     ]
    }
   ],
   "source": [
    "_cutManToFGUI.bb_default_set()\n",
    "_cutManToFGUI.createPackageWithUI(\"Science_01\", {\n",
    "    \"_ScienceTree_Alliance_Layer\": [\n",
    "        os.path.join(Company_BB_Utils.getSLGProjectPath(), \"svn_repos/trunk/doc/art/UI/alpha/效果图/联盟科技/联盟科技_a_01\"),\n",
    "    ],\n",
    "    \"Science_Alliance_TipLayer\": [\n",
    "        os.path.join(Company_BB_Utils.getSLGProjectPath(), \"svn_repos/trunk/doc/art/UI/alpha/效果图/联盟科技/联盟科技_弹窗_a_01\"),\n",
    "        os.path.join(Company_BB_Utils.getSLGProjectPath(), \"svn_repos/trunk/doc/art/UI/alpha/效果图/联盟科技/联盟科技_弹窗_a_02\"),\n",
    "        os.path.join(Company_BB_Utils.getSLGProjectPath(), \"svn_repos/trunk/doc/art/UI/alpha/效果图/联盟科技/联盟科技_弹窗_b_01\"),\n",
    "    ],\n",
    "    \"Science_Alliance__TipLayer\": [\n",
    "        os.path.join(Company_BB_Utils.getSLGProjectPath(), \"svn_repos/trunk/doc/art/UI/alpha/效果图/联盟科技/联盟科技_弹窗_c_01\"),\n",
    "        os.path.join(Company_BB_Utils.getSLGProjectPath(), \"svn_repos/trunk/doc/art/UI/alpha/效果图/联盟科技/联盟科技_弹窗_c_02\"),\n",
    "        os.path.join(Company_BB_Utils.getSLGProjectPath(), \"svn_repos/trunk/doc/art/UI/alpha/效果图/联盟科技/联盟科技_弹窗_c_03\"),\n",
    "        os.path.join(Company_BB_Utils.getSLGProjectPath(), \"svn_repos/trunk/doc/art/UI/alpha/效果图/联盟科技/联盟科技_弹窗_c_04\"),\n",
    "    ],\n",
    "})"
   ],
   "metadata": {
    "collapsed": false
   }
  }
 ],
 "metadata": {
  "kernelspec": {
   "display_name": "Python 3",
   "language": "python",
   "name": "python3"
  },
  "language_info": {
   "codemirror_mode": {
    "name": "ipython",
    "version": 2
   },
   "file_extension": ".py",
   "mimetype": "text/x-python",
   "name": "python",
   "nbconvert_exporter": "python",
   "pygments_lexer": "ipython2",
   "version": "2.7.6"
  }
 },
 "nbformat": 4,
 "nbformat_minor": 0
}
