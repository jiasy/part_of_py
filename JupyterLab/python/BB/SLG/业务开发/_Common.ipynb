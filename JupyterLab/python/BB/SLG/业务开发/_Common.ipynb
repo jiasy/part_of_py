{
 "cells": [
  {
   "cell_type": "code",
   "execution_count": null,
   "metadata": {
    "ExecuteTime": {
     "end_time": "2023-05-31T11:38:39.592471Z",
     "start_time": "2023-05-31T11:38:39.353543Z"
    }
   },
   "outputs": [],
   "source": [
    "# 导入Py_Service\n",
    "import sys\n",
    "\n",
    "sys.path.append(\"/Users/nobody/Documents/develop/GitHub/Services/PY_Service\")\n",
    "from utils import pyServiceUtils\n",
    "from BB.app.services.BBTs import BBTs\n",
    "from BB.app.services.BBTs.BBTs_Project import BBTs_Project\n",
    "\n",
    "_svr: BBTs = pyServiceUtils.getSvrByName(\"BB\", \"BBTs\")\n",
    "_bbProject: BBTs_Project = pyServiceUtils.getSubSvrByName(\"BB\", \"BBTs\", \"BBTs_Project\")"
   ]
  },
  {
   "cell_type": "code",
   "execution_count": null,
   "metadata": {
    "ExecuteTime": {
     "end_time": "2023-05-31T11:38:40.880536Z",
     "start_time": "2023-05-31T11:38:39.594139Z"
    }
   },
   "outputs": [],
   "source": [
    "_moduleName = \"Bag\"\n",
    "_comment = \"背包\"\n",
    "_moduleID = None  #\n",
    "_pageList = [\n",
    "    f\"{_moduleName}Layer\",  # 工具一定会创建一个同名的\n",
    "]\n",
    "_protoList = [\n",
    "    \"BagTemp\",\n",
    "]\n",
    "_bbProject.ts_create_module(_moduleName, _comment, _moduleID, _pageList, _protoList)"
   ]
  },
  {
   "cell_type": "code",
   "execution_count": null,
   "metadata": {
    "ExecuteTime": {
     "end_time": "2023-05-31T11:38:42.023001Z",
     "start_time": "2023-05-31T11:38:40.884100Z"
    }
   },
   "outputs": [],
   "source": [
    "_moduleName = \"Hero\"\n",
    "_comment = \"英雄\"\n",
    "_moduleID = None  #\n",
    "_pageList = [\n",
    "    f\"{_moduleName}Layer\",  # 工具一定会创建一个同名的\n",
    "]\n",
    "_protoList = [\n",
    "    \"HeroTemp\",\n",
    "    \"BagTemp\"\n",
    "]\n",
    "_bbProject.ts_create_module(_moduleName, _comment, _moduleID, _pageList, _protoList)"
   ]
  },
  {
   "cell_type": "code",
   "execution_count": null,
   "metadata": {
    "ExecuteTime": {
     "end_time": "2023-05-24T15:32:58.237821Z",
     "start_time": "2023-05-24T15:32:58.235245Z"
    }
   },
   "outputs": [],
   "source": [
    "_bbProject.doCompareCmd([\"Bag\", \"Hero\"])"
   ]
  },
  {
   "cell_type": "code",
   "execution_count": null,
   "metadata": {
    "ExecuteTime": {
     "end_time": "2023-05-24T15:32:58.241344Z",
     "start_time": "2023-05-24T15:32:58.239381Z"
    }
   },
   "outputs": [],
   "source": []
  }
 ],
 "metadata": {
  "kernelspec": {
   "display_name": "Python 3",
   "language": "python",
   "name": "python3"
  },
  "language_info": {
   "codemirror_mode": {
    "name": "ipython",
    "version": 2
   },
   "file_extension": ".py",
   "mimetype": "text/x-python",
   "name": "python",
   "nbconvert_exporter": "python",
   "pygments_lexer": "ipython2",
   "version": "2.7.6"
  }
 },
 "nbformat": 4,
 "nbformat_minor": 0
}
