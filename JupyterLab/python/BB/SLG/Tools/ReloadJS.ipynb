{
 "cells": [
  {
   "cell_type": "code",
   "execution_count": null,
   "metadata": {},
   "outputs": [],
   "source": [
    "# 导入Py_Service\n",
    "import asyncio\n",
    "import websockets\n",
    "import nest_asyncio\n",
    "import sys\n",
    "\n",
    "nest_asyncio.apply()\n",
    "\n",
    "\n",
    "async def listen_for_connection(uri, timeout):\n",
    "    start_time = asyncio.get_event_loop().time()\n",
    "    while True:\n",
    "        try:\n",
    "            async with websockets.connect(uri) as websocket:\n",
    "                print(\"发现服务\")\n",
    "                return\n",
    "        except (ConnectionRefusedError, OSError):\n",
    "            if (asyncio.get_event_loop().time() - start_time) > timeout:\n",
    "                print(\"未能在指定时间内发现指定端口的 websocket 服务\")\n",
    "                sys.exit(1)\n",
    "            else:\n",
    "                await asyncio.sleep(1)\n",
    "\n",
    "\n",
    "async def is_websocket_service_available(uri):\n",
    "    try:\n",
    "        async with websockets.connect(uri) as websocket:\n",
    "            return True\n",
    "    except (ConnectionRefusedError, OSError):\n",
    "        return False\n",
    "\n",
    "\n",
    "async def waitForSecond(sec: int):\n",
    "    await asyncio.sleep(sec)\n",
    "\n",
    "\n",
    "sys.path.append(\"/Users/nobody/Documents/develop/GitHub/Services/PY_Service\")\n",
    "from utils import pyServiceUtils\n",
    "\n",
    "from BB.app.services.BBTs.BBTs_V8_Debugger import BBTs_V8_Debugger\n",
    "\n",
    "_v8_Debugger: BBTs_V8_Debugger = pyServiceUtils.getSubSvrByName(\"BB\", \"BBTs\", \"BBTs_V8_Debugger\")\n",
    "_uri = \"ws://localhost:8080\""
   ]
  },
  {
   "cell_type": "code",
   "execution_count": null,
   "metadata": {},
   "outputs": [],
   "source": [
    "'''\n",
    "http://127.0.0.1:8888/notebooks/JupyterLab/python/BB_TS_SLG/Tools/ReloadJS.ipynb\n",
    "'''\n",
    "# 等待直至 V8 在运行中\n",
    "_V8_is_online = await is_websocket_service_available(_uri)\n",
    "\n",
    "\n"
   ]
  }
 ],
 "metadata": {
  "kernelspec": {
   "display_name": "Python 3",
   "language": "python",
   "name": "python3"
  },
  "language_info": {
   "codemirror_mode": {
    "name": "ipython",
    "version": 2
   },
   "file_extension": ".py",
   "mimetype": "text/x-python",
   "name": "python",
   "nbconvert_exporter": "python",
   "pygments_lexer": "ipython2",
   "version": "2.7.6"
  }
 },
 "nbformat": 4,
 "nbformat_minor": 0
}
