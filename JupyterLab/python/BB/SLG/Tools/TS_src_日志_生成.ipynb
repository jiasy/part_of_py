{
 "cells": [
  {
   "cell_type": "code",
   "execution_count": null,
   "metadata": {
    "ExecuteTime": {
     "end_time": "2023-09-11T16:37:27.740924Z",
     "start_time": "2023-09-11T16:37:27.526188Z"
    }
   },
   "outputs": [],
   "source": [
    "# 导入Py_Service\n",
    "import sys\n",
    "import os\n",
    "from utils import folderUtils\n",
    "\n",
    "sys.path.append(\"/Users/nobody/Documents/develop/GitHub/Services/PY_Service\")\n",
    "from utils import pyServiceUtils\n",
    "from BB.app.services.BBTs import BBTs\n",
    "from BB.app.services.BBTs.BBTs_AnalyseTs import BBTs_AnalyseTs\n",
    "from utils.CompanyUtil import Company_BB_Utils\n",
    "\n",
    "_svr: BBTs = pyServiceUtils.getSvrByName(\"BB\", \"BBTs\")\n",
    "_bBTs_AnalyseTs: BBTs_AnalyseTs = pyServiceUtils.getSubSvrByName(\"BB\", \"BBTs\", \"BBTs_AnalyseTs\")\n",
    "_csProject = Company_BB_Utils.getSLGProjectPath()"
   ]
  },
  {
   "cell_type": "code",
   "execution_count": null,
   "metadata": {
    "ExecuteTime": {
     "end_time": "2023-06-20T14:17:36.611337Z",
     "start_time": "2023-06-20T14:15:45.945792Z"
    }
   },
   "outputs": [],
   "source": [
    "# 生成代码时，刨除的文件，只需要写文件名的一部分即可，因为都是 TS 文件，没必要搞正则\n",
    "_relativeFilterPartNameList = [\n",
    "    \"Module/Battle/\",\n",
    "    \"Module/BuildingPop/\",\n",
    "    \"Module/AutoBattling/\",\n",
    "    \"Module/BuildingTip/\",\n",
    "    # \"Module/Castle/\",\n",
    "    \"Module/Formation/\",\n",
    "    \"Module/Chat/\",\n",
    "    \"Module/UIToast/\",\n",
    "    \"Module/Login/\",\n",
    "    # \"Module/Configs/\",\n",
    "]\n",
    "# 剔除 指定名称文件 ，分析并添加日志\n",
    "_bBTs_AnalyseTs.analyseTS_addLog(_csProject, _relativeFilterPartNameList, True)\n",
    "# # 清空日志目录\n",
    "# folderUtils.deleteThenCreateFolder(os.path.join(_csProject, \"project_unity/Logs/\"))"
   ]
  },
  {
   "cell_type": "code",
   "execution_count": null,
   "metadata": {},
   "outputs": [],
   "source": [
    "# 生成代码时，刨除的文件，只需要写文件名的一部分即可，因为都是 TS 文件，没必要搞正则\n",
    "_relativeFilterPartNameList = [\n",
    "    \"Game/Module/Science/View/ViewScienceTree.ts\",\n",
    "]\n",
    "# 剔除 指定名称文件 ，分析并添加日志\n",
    "_bBTs_AnalyseTs.analyseTS_addLog(_csProject, _relativeFilterPartNameList, False)\n",
    "# # 清空日志目录\n",
    "# folderUtils.deleteThenCreateFolder(os.path.join(_csProject, \"project_unity/Logs/\"))"
   ]
  }
 ],
 "metadata": {
  "kernelspec": {
   "display_name": "Python 3 (ipykernel)",
   "language": "python",
   "name": "python3"
  },
  "language_info": {
   "codemirror_mode": {
    "name": "ipython",
    "version": 3
   },
   "file_extension": ".py",
   "mimetype": "text/x-python",
   "name": "python",
   "nbconvert_exporter": "python",
   "pygments_lexer": "ipython3",
   "version": "3.10.10"
  }
 },
 "nbformat": 4,
 "nbformat_minor": 1
}
