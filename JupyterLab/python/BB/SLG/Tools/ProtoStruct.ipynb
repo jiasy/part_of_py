{
 "cells": [
  {
   "cell_type": "code",
   "execution_count": null,
   "metadata": {
    "ExecuteTime": {
     "start_time": "2023-12-22T11:52:28.540187Z",
     "end_time": "2023-12-22T11:52:29.307045Z"
    }
   },
   "outputs": [],
   "source": [
    "import sys\n",
    "import os\n",
    "\n",
    "sys.path.append(\"/Users/nobody/Documents/develop/GitHub/Services/PY_Service\")\n",
    "from utils import pyServiceUtils\n",
    "from BB.app.services.BBTs.BBProtoStructTS import BBProtoStructTS\n",
    "from utils.CompanyUtil import Company_BB_Utils\n",
    "import os\n",
    "\n",
    "_bbProtoStructTs: BBProtoStructTS = pyServiceUtils.getSubSvrByName(\"BB\", \"BBTs\", \"BBProtoStructTS\")\n",
    "_bbProtoStructTs.recoverProtoFolderPath = \"/Users/nobody/Downloads/proto/\"  # proto 3 还原成 2 放置的位置\n",
    "_bbProtoStructTs.targetProtoFolderPath = os.path.join(Company_BB_Utils.getSLGProjectPath(), \"proto/protofile/net/\")  # proto 文件放置位置\n",
    "_bbProtoStructTs.projectTSFolderPath = os.path.join(Company_BB_Utils.getSLGProjectPath(), \"project_ts/\")  # TS 工程路径\n",
    "_bbProtoStructTs.relativeModuleFolderPath = \"src/Game/Module/\"  # 所有模块的文件夹相对 TS 的路径\n",
    "_bbProtoStructTs.infosAndLogFolderPath = os.path.join(Company_BB_Utils.getSLGRoot(), \"infosAndLogs/Infos/\")  # 生成代码放置路径\n",
    "_bbProtoStructTs.protobufDescribeFolder = os.path.join(Company_BB_Utils.getSLGRoot(), \"infosAndLogs/ProtobufInfo/\")  # proto描述文件\n",
    "_bbProtoStructTs.moduleFolderPath = os.path.join(_bbProtoStructTs.projectTSFolderPath, _bbProtoStructTs.relativeModuleFolderPath)  # 所有模块的文件夹\n"
   ]
  },
  {
   "cell_type": "code",
   "execution_count": null,
   "metadata": {
    "ExecuteTime": {
     "start_time": "2023-12-22T11:52:29.305884Z",
     "end_time": "2023-12-22T11:52:30.031461Z"
    }
   },
   "outputs": [],
   "source": [
    "# 打印 Proto 中 指定结构名的，TS创建代码\n",
    "_bbProtoStructTs.printStructCreateCode(\"ScienceTotalInfo\", [\"Science\", \"CommonReward\", \"Common\"])\n",
    "\n",
    "# 打印 模块所需的 Proto 结构\n",
    "_bbProtoStructTs.printProtoStruct([\"Science\", \"CommonReward\", \"Common\"])"
   ]
  },
  {
   "cell_type": "code",
   "execution_count": null,
   "metadata": {
    "ExecuteTime": {
     "end_time": "2023-09-08T14:16:32.148170Z",
     "start_time": "2023-09-08T14:16:31.965375Z"
    }
   },
   "outputs": [],
   "source": [
    "# 打印 Proto 中 指定结构名的，TS创建代码\n",
    "_bbProtoStructTs.printStructCreateCode(\"GetScienceInfoReq\", [\"Science\", \"Common\"])\n",
    "_bbProtoStructTs.printStructCreateCode(\"ResearchReq\", [\"Science\", \"Common\"])\n",
    "_bbProtoStructTs.printStructCreateCode(\"CancelResearchReq\", [\"Science\", \"Common\"])\n",
    "_bbProtoStructTs.printStructCreateCode(\"AccelerateScienceReq\", [\"Science\", \"Common\"])\n",
    "_bbProtoStructTs.printStructCreateCode(\"FinishScienceReq\", [\"Science\", \"Common\"])\n",
    "_bbProtoStructTs.printStructCreateCode(\"FinishResearchingScienceReq\", [\"Science\", \"Common\"])"
   ]
  },
  {
   "cell_type": "code",
   "execution_count": null,
   "metadata": {},
   "outputs": [],
   "source": []
  }
 ],
 "metadata": {
  "kernelspec": {
   "display_name": "Python 3 (ipykernel)",
   "language": "python",
   "name": "python3"
  },
  "language_info": {
   "codemirror_mode": {
    "name": "ipython",
    "version": 3
   },
   "file_extension": ".py",
   "mimetype": "text/x-python",
   "name": "python",
   "nbconvert_exporter": "python",
   "pygments_lexer": "ipython3",
   "version": "3.10.10"
  }
 },
 "nbformat": 4,
 "nbformat_minor": 1
}
