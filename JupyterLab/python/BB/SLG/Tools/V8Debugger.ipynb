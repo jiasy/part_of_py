{
 "cells": [
  {
   "cell_type": "code",
   "execution_count": null,
   "metadata": {
    "ExecuteTime": {
     "end_time": "2023-12-06T18:08:39.265739Z",
     "start_time": "2023-12-06T18:08:38.239415Z"
    }
   },
   "outputs": [],
   "source": [
    "# 导入Py_Service\n",
    "import asyncio\n",
    "import websockets\n",
    "import nest_asyncio\n",
    "import sys\n",
    "\n",
    "nest_asyncio.apply()\n",
    "\n",
    "\n",
    "async def listen_for_connection(uri, timeout):\n",
    "    start_time = asyncio.get_event_loop().time()\n",
    "    while True:\n",
    "        try:\n",
    "            async with websockets.connect(uri) as websocket:\n",
    "                print(\"发现服务\")\n",
    "                return\n",
    "        except (ConnectionRefusedError, OSError):\n",
    "            if (asyncio.get_event_loop().time() - start_time) > timeout:\n",
    "                print(\"未能在指定时间内发现指定端口的 websocket 服务\")\n",
    "                sys.exit(1)\n",
    "            else:\n",
    "                await asyncio.sleep(1)\n",
    "\n",
    "\n",
    "async def is_websocket_service_available(uri):\n",
    "    try:\n",
    "        async with websockets.connect(uri) as websocket:\n",
    "            return True\n",
    "    except (ConnectionRefusedError, OSError):\n",
    "        return False\n",
    "\n",
    "\n",
    "async def waitForSecond(sec: int):\n",
    "    await asyncio.sleep(sec)\n",
    "\n",
    "\n",
    "sys.path.append(\"/Users/nobody/Documents/develop/GitHub/Services/PY_Service\")\n",
    "from utils import pyServiceUtils\n",
    "\n",
    "from BB.app.services.BBTs.BBTs_V8_Debugger import BBTs_V8_Debugger\n",
    "\n",
    "_v8_Debugger: BBTs_V8_Debugger = pyServiceUtils.getSubSvrByName(\"BB\", \"BBTs\", \"BBTs_V8_Debugger\")\n",
    "_uri = \"ws://localhost:8080\""
   ]
  },
  {
   "cell_type": "code",
   "execution_count": null,
   "metadata": {
    "ExecuteTime": {
     "end_time": "2023-12-06T18:08:43.011598Z",
     "start_time": "2023-12-06T18:08:39.266348Z"
    }
   },
   "outputs": [],
   "source": [
    "'''\n",
    "http://127.0.0.1:8888/notebooks/JupyterLab/python/BB_TS_SLG/Tools/V8Debugger.ipynb\n",
    "'''\n",
    "\n",
    "_v8_Debugger.clearLogs()  # 清理日志\n",
    "\n",
    "_V8_is_online = await is_websocket_service_available(_uri)\n",
    "if _V8_is_online:\n",
    "    _v8_Debugger.reset()  # 重置环境\n",
    "\n",
    "await listen_for_connection(_uri, 20)  # 等待 Unity 中 V8 启动\n",
    "\n",
    "# 在新环境执行代码\n",
    "await waitForSecond(3)  # 等它初始\n",
    "#_v8_Debugger.exeCode(\"Game.HeroBag.show()\")\n"
   ]
  },
  {
   "cell_type": "markdown",
   "metadata": {},
   "source": []
  },
  {
   "cell_type": "code",
   "execution_count": null,
   "metadata": {
    "ExecuteTime": {
     "end_time": "2023-12-06T18:08:44.675428Z",
     "start_time": "2023-12-06T18:08:43.017379Z"
    }
   },
   "outputs": [],
   "source": [
    "await listen_for_connection(_uri, 20)  # 等待 Unity 中 V8 启动\n",
    "_v8_Debugger.dumpDataAndLayer()  # dump数据"
   ]
  },
  {
   "cell_type": "code",
   "execution_count": null,
   "metadata": {
    "ExecuteTime": {
     "end_time": "2023-12-06T18:08:44.675983Z",
     "start_time": "2023-12-06T18:08:44.672237Z"
    }
   },
   "outputs": [],
   "source": [
    "# # 在新环境执行代码\n",
    "# await waitForSecond(3)  # 等它初始化\n",
    "# _v8_Debugger.exeCode(\"Game.Castle.showUpgrade(10)\")"
   ]
  }
 ],
 "metadata": {
  "kernelspec": {
   "display_name": "Python 3 (ipykernel)",
   "language": "python",
   "name": "python3"
  },
  "language_info": {
   "codemirror_mode": {
    "name": "ipython",
    "version": 3
   },
   "file_extension": ".py",
   "mimetype": "text/x-python",
   "name": "python",
   "nbconvert_exporter": "python",
   "pygments_lexer": "ipython3",
   "version": "3.10.10"
  }
 },
 "nbformat": 4,
 "nbformat_minor": 1
}
