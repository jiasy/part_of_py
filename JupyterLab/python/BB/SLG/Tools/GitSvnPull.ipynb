{
 "cells": [
  {
   "cell_type": "code",
   "execution_count": null,
   "metadata": {
    "ExecuteTime": {
     "start_time": "2024-01-24T13:04:59.395357Z",
     "end_time": "2024-01-24T13:05:00.151161Z"
    }
   },
   "outputs": [],
   "source": [
    "import sys\n",
    "import os\n",
    "\n",
    "sys.path.append(\"/Users/nobody/Documents/develop/GitHub/Services/PY_Service\")\n",
    "from utils import gitUtils\n",
    "from utils import cmdUtils\n",
    "from utils import pyServiceUtils\n",
    "\n",
    "from Excel.app.services.Svn import Svn\n",
    "import os\n",
    "\n",
    "from utils.CompanyUtil import Company_BB_Utils\n",
    "\n",
    "_svnSvr: Svn = pyServiceUtils.getSvrByName(\"Excel\", \"Svn\")"
   ]
  },
  {
   "cell_type": "markdown",
   "metadata": {
    "collapsed": false
   },
   "source": []
  },
  {
   "cell_type": "code",
   "execution_count": null,
   "metadata": {
    "ExecuteTime": {
     "start_time": "2024-01-24T13:05:00.153835Z",
     "end_time": "2024-01-24T13:06:16.720725Z"
    }
   },
   "outputs": [],
   "source": [
    "'''\n",
    "http://127.0.0.1:8888/notebooks/JupyterLab/python/BB_TS_SLG/Tools/GitSvnPull.ipynb\n",
    "'''\n",
    "# 清理 asset_bundle 的 Unity 生成文件\n",
    "cmdUtils.doStrAsCmd(\"git clean -fd\", os.path.join(Company_BB_Utils.getSLGProjectPath(), \"asset_bundle\"))\n",
    "# 更新 git\n",
    "_gitInfoList = [\n",
    "    [os.path.join(Company_BB_Utils.getSLGProjectPath(), \"project_ts\"), \"dev\"],\n",
    "    [os.path.join(Company_BB_Utils.getSLGProjectPath(), \"project_unity\"), \"dev\"],\n",
    "    [os.path.join(Company_BB_Utils.getSLGProjectPath(), \"project_config\"), \"master\"],\n",
    "    [os.path.join(Company_BB_Utils.getSLGProjectPath(), \"asset_bundle\"), \"dev\"],\n",
    "    [os.path.join(Company_BB_Utils.getSLGProjectPath(), \"proto\"), \"dev\"],\n",
    "    # [os.path.join(Company_BB_Utils.getSLGProjectPath(),\"svn_repos\")trunk/project_audio/\", \"dev\"],\n",
    "]\n",
    "gitUtils.pullGitByInfoList(_gitInfoList)"
   ]
  },
  {
   "cell_type": "code",
   "execution_count": null,
   "metadata": {
    "ExecuteTime": {
     "start_time": "2024-01-24T13:06:16.731073Z",
     "end_time": "2024-01-24T13:07:30.941921Z"
    }
   },
   "outputs": [],
   "source": [
    "# 执行 npm 命令\n",
    "cmdUtils.doStrAsCmd(\"npm up;npm install\", os.path.join(Company_BB_Utils.getSLGProjectPath(), \"project_ts\"))"
   ]
  },
  {
   "cell_type": "code",
   "execution_count": null,
   "metadata": {
    "ExecuteTime": {
     "start_time": "2024-01-23T10:02:35.802928Z",
     "end_time": "2024-01-23T10:02:43.170308Z"
    }
   },
   "outputs": [],
   "source": [
    "# 更新 SVN 并添加\n",
    "_svnTrunkPath = os.path.join(Company_BB_Utils.getSLGProjectPath(), \"svn_repos\", \"trunk\")\n",
    "\n",
    "# 拉取文件\n",
    "_svnSvr.svnUpdateFolderList(\n",
    "    _svnTrunkPath, [\n",
    "        \"project_fgui\",  # FGUI\n",
    "        \"project_audio\",  # 音频\n",
    "        \"design/excel\",  # 配置\n",
    "        \"design/confdb\",  # 生成 DB\n",
    "    ])\n",
    "\n",
    "# 拉取中冲突部分，不用解决的部分直接revert\n",
    "_svnSvr.svnRevertConflictFileList(_svnTrunkPath, [\n",
    "    \"project_fgui/export\",  # 和别人的导出有冲突，就先用别人的\n",
    "    \"design/excel\",\n",
    "    \"design/confdb\",\n",
    "])\n",
    "\n",
    "# # 本地未在版本管理下的文件，需要直接添加到版本管理的\n",
    "# _svnSvr.svnAddFolderList(_svnTrunkPath, [\n",
    "#     \"project_fgui/bindData\",  # fgui 绑定数据\n",
    "#     \"project_fgui/vmJson\",  # typeScript 的 vm 导出\n",
    "#     \"project_fgui/proj/assets\",  # FGUI 编辑时添加的文件\n",
    "#     \"project_fgui/export\",  # FGUI 导出的内容，刚制作的\n",
    "# ])\n"
   ]
  },
  {
   "cell_type": "code",
   "execution_count": null,
   "metadata": {
    "ExecuteTime": {
     "start_time": "2024-01-23T10:02:43.171824Z",
     "end_time": "2024-01-23T10:02:43.173796Z"
    }
   },
   "outputs": [],
   "source": []
  }
 ],
 "metadata": {
  "kernelspec": {
   "display_name": "Python 3 (ipykernel)",
   "language": "python",
   "name": "python3"
  },
  "language_info": {
   "codemirror_mode": {
    "name": "ipython",
    "version": 3
   },
   "file_extension": ".py",
   "mimetype": "text/x-python",
   "name": "python",
   "nbconvert_exporter": "python",
   "pygments_lexer": "ipython3",
   "version": "3.10.10"
  }
 },
 "nbformat": 4,
 "nbformat_minor": 1
}
