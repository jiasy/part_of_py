{
 "cells": [
  {
   "cell_type": "code",
   "execution_count": null,
   "metadata": {
    "ExecuteTime": {
     "end_time": "2023-09-13T10:40:09.143509Z",
     "start_time": "2023-09-13T10:40:08.807743Z"
    }
   },
   "outputs": [],
   "source": [
    "# 导入Py_Service\n",
    "import sys\n",
    "\n",
    "sys.path.append(\"/Users/nobody/Documents/develop/GitHub/Services/PY_Service\")\n",
    "from utils import fileContentOperateUtils\n",
    "\n",
    "_logFilePath = \"/Volumes/File/develop/SB/SLG/infosAndLogs/Logs/PuertsLog\"\n",
    "# 过滤的行\n",
    "_logContentList = [\n",
    "    \"Framework/Lib/Ticker.ts -> Ticker.onUpdate\",\n",
    "    \"Framework/Network/Net.ts -> NetConnection.checkTimeout\",\n",
    "\n",
    "    \"Game/Manager/TimerManager.ts -> TimerManager.update\",\n",
    "    \"Game/Manager/TimerManager.ts -> TimerManager.findTimer\",\n",
    "    \"Game/Manager/TimerManager.ts -> PriorityQueue.peek\",\n",
    "\n",
    "    \"Game/Module/Castle/GridMgr.ts -> GridMgr.GetNumberFromXY\",\n",
    "    \"Game/Module/Castle/CastleServiceNetMock.ts -> CastleNetMock.CheckBuildings\",\n",
    "    \"Game/Module/Castle/BuildingBase.ts -> OrnamentBuilding.CheckShowBubbleUI\",\n",
    "    \"Game/Module/Castle/GridMgr.ts -> GridMgr.GetPosStrFromXY\",\n",
    "\n",
    "    \"Game/Configs/Conf_Localization.ts -> Conf_Localization_Tb.getName\",\n",
    "    \"Game/Configs/Conf_Localization.ts -> Conf_Localization_Tb.newObj\",\n",
    "    \"Game/Configs/Conf_Localization.ts -> Conf_Localization_Data new\",\n",
    "\n",
    "    \"Framework/Config/ConfigManifest.ts -> ConfigManifest.GetConfigInfo  ( Localization ),\",\n",
    "    \"Framework/Config/BaseConfigTb.ts -> Conf_Localization_Tb.getRowByIndex\",\n",
    "\n",
    "    \"Game/Module/Science/Layer/ScienceTreeLayer.ts -> ScienceTreeLayer.createScienceUnit\",\n",
    "    \"Game/Module/Science/Layer/ScienceTreeLayer.ts -> ScienceTreeLayer.addScienceByGroup\",\n",
    "    \"Game/Module/Science/Layer/ScienceTreeLayer.ts -> ScienceTreeLayer.createFivePoint\",\n",
    "    \"Game/Module/Science/Layer/ScienceTreeLayer.ts -> ScienceTreeLayer.createSciencePoint\",\n",
    "    \"Game/Module/Science/Layer/ScienceTreeLayer.ts -> ScienceTreeLayer.createScienceLine\",\n",
    "    \"Game/Module/Science/View/ViewScienceTree.ts -> ViewScienceTree.getScienceComName\",\n",
    "    \"Game/Module/Science/View/ViewScienceTree.ts -> ViewScienceTree.refreshScienceUnit\",\n",
    "    \"Game/Module/Science/View/ViewScienceTree.ts -> ViewScienceTree.getPointLineName\",\n",
    "    \"Game/Module/Science/View/ViewScienceTree.ts -> ViewScienceTree.getRightLineName\",\n",
    "    \"Game/Module/Science/View/ViewScienceTree.ts -> ViewScienceTree.getLeftLineName\",\n",
    "    \"Game/Module/Science/View/ViewScienceTree.ts -> ViewScienceTree.getBottomLineName\",\n",
    "]\n",
    "\n",
    "# 删除持有指定字符串的行\n",
    "fileContentOperateUtils.removeLinesWithStrList(_logFilePath, _logContentList)"
   ]
  },
  {
   "cell_type": "code",
   "execution_count": null,
   "metadata": {
    "ExecuteTime": {
     "end_time": "2023-09-13T10:40:09.145462Z",
     "start_time": "2023-09-13T10:40:09.143768Z"
    }
   },
   "outputs": [],
   "source": []
  },
  {
   "cell_type": "code",
   "execution_count": null,
   "metadata": {
    "ExecuteTime": {
     "end_time": "2023-09-13T10:40:09.148268Z",
     "start_time": "2023-09-13T10:40:09.146503Z"
    }
   },
   "outputs": [],
   "source": []
  }
 ],
 "metadata": {
  "kernelspec": {
   "display_name": "Python 3 (ipykernel)",
   "language": "python",
   "name": "python3"
  },
  "language_info": {
   "codemirror_mode": {
    "name": "ipython",
    "version": 3
   },
   "file_extension": ".py",
   "mimetype": "text/x-python",
   "name": "python",
   "nbconvert_exporter": "python",
   "pygments_lexer": "ipython3",
   "version": "3.10.10"
  }
 },
 "nbformat": 4,
 "nbformat_minor": 1
}
