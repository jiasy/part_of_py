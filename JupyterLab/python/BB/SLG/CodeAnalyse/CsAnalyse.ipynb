{
 "cells": [
  {
   "cell_type": "code",
   "execution_count": null,
   "metadata": {
    "ExecuteTime": {
     "end_time": "2023-05-18T12:00:49.718627Z",
     "start_time": "2023-05-18T12:00:49.222362Z"
    }
   },
   "outputs": [],
   "source": [
    "# 导入Py_Service\n",
    "import sys\n",
    "\n",
    "sys.path.append(\"/Users/nobody/Documents/develop/GitHub/Services/PY_Service\")\n",
    "from utils import pyServiceUtils\n",
    "from BB.app.services.BBTs import BBTs\n",
    "from BB.app.services.BBTs.BBTs_AnalyseTs import BBTs_AnalyseTs\n",
    "\n",
    "_svr: BBTs = pyServiceUtils.getSvrByName(\"BB\", \"BBTs\")\n",
    "_bBTs_AnalyseTs: BBTs_AnalyseTs = pyServiceUtils.getSubSvrByName(\"BB\", \"BBTs\", \"BBTs_AnalyseTs\")\n",
    "from utils.CompanyUtil import Company_BB_Utils"
   ]
  },
  {
   "cell_type": "code",
   "execution_count": null,
   "metadata": {
    "ExecuteTime": {
     "end_time": "2023-05-18T12:01:51.991388Z",
     "start_time": "2023-05-18T12:00:49.718561Z"
    }
   },
   "outputs": [],
   "source": [
    "_csProject = Company_BB_Utils.getSLGProjectPath()\n",
    "# 生成代码时，刨除的文件，只需要写文件名的一部分即可，因为都是 TS 文件，没必要搞正则\n",
    "_relativeFilterPartNameList = [\n",
    "    # \"Framework/\",\n",
    "    # \"Game/\"\n",
    "]\n",
    "# 剔除 指定名称文件 ，分析并添加日志\n",
    "_bBTs_AnalyseTs.analyseTS_addLog(_csProject, _relativeFilterPartNameList, True)"
   ]
  },
  {
   "cell_type": "code",
   "execution_count": null,
   "metadata": {},
   "outputs": [],
   "source": []
  }
 ],
 "metadata": {
  "kernelspec": {
   "display_name": "Python 3",
   "language": "python",
   "name": "python3"
  },
  "language_info": {
   "codemirror_mode": {
    "name": "ipython",
    "version": 2
   },
   "file_extension": ".py",
   "mimetype": "text/x-python",
   "name": "python",
   "nbconvert_exporter": "python",
   "pygments_lexer": "ipython2",
   "version": "2.7.6"
  }
 },
 "nbformat": 4,
 "nbformat_minor": 0
}
