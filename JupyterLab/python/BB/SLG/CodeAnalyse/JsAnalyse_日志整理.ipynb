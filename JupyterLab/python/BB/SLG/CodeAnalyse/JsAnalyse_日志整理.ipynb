{
 "cells": [
  {
   "cell_type": "code",
   "execution_count": null,
   "metadata": {
    "ExecuteTime": {
     "end_time": "2023-10-12T16:36:13.876333Z",
     "start_time": "2023-10-12T16:36:13.674683Z"
    }
   },
   "outputs": [],
   "source": [
    "# 导入Py_Service\n",
    "import sys\n",
    "\n",
    "sys.path.append(\"/Users/nobody/Documents/develop/GitHub/Services/PY_Service\")\n",
    "from utils import fileContentOperateUtils\n",
    "\n",
    "_logFilePath = \"/Volumes/File/develop/SB/SLG/infosAndLogs/Logs/PuertsLog\"\n",
    "# 过滤的行\n",
    "_logContentList = [\n",
    "    \"LoadingLayer.js -> onUpdate\",\n",
    "    \"BattleView.js -> onUpdate\",\n",
    "    \"HangupDirector.js -> onEngaging\",\n",
    "    \"HangupSceneCtrl.js -> loopHangupSceneObj\",\n",
    "    \"Movement.js -> updateGoPos\",\n",
    "    \"Unit.js -> onUpdate\",\n",
    "    \"EffectMgr.js -> tick\",\n",
    "    \"EffectMgr.js -> checkEffectEnd\",\n",
    "    \"EffectMgr.js -> checkDelayEffect\",\n",
    "    \"Avatar.js -> refreshAnimState\",\n",
    "    \"LoginData.js -> IsUserLogin\",\n",
    "    \"BattleView.js -> onGizmosUpdate\",\n",
    "    \"Math.js -> toUnityVector3\",\n",
    "\n",
    "    \"HangupDirector.js -> onMoving\",\n",
    "\n",
    "    \"Math.js -> \",\n",
    "]\n",
    "\n",
    "# 删除持有指定字符串的行\n",
    "fileContentOperateUtils.removeLinesWithStrList(_logFilePath, _logContentList)"
   ]
  },
  {
   "cell_type": "code",
   "execution_count": null,
   "metadata": {},
   "outputs": [],
   "source": []
  }
 ],
 "metadata": {
  "kernelspec": {
   "display_name": "Python 3",
   "language": "python",
   "name": "python3"
  },
  "language_info": {
   "codemirror_mode": {
    "name": "ipython",
    "version": 2
   },
   "file_extension": ".py",
   "mimetype": "text/x-python",
   "name": "python",
   "nbconvert_exporter": "python",
   "pygments_lexer": "ipython2",
   "version": "2.7.6"
  }
 },
 "nbformat": 4,
 "nbformat_minor": 0
}
