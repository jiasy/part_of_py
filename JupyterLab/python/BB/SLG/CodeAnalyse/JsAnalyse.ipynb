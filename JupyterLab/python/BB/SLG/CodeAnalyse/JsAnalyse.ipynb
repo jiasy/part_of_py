{
 "cells": [
  {
   "cell_type": "code",
   "execution_count": null,
   "metadata": {
    "ExecuteTime": {
     "end_time": "2023-10-10T15:18:34.718328Z",
     "start_time": "2023-10-10T15:18:34.717993Z"
    }
   },
   "outputs": [],
   "source": [
    "# 导入Py_Service\n",
    "import asyncio\n",
    "import websockets\n",
    "import nest_asyncio\n",
    "import sys\n",
    "import os\n",
    "\n",
    "sys.path.append(\"/Users/nobody/Documents/develop/GitHub/Services/PY_Service\")\n",
    "from utils import pyServiceUtils\n",
    "from utils import cmdUtils\n",
    "\n",
    "from Code.app.services.LogUtils.JsLogUtils import JsLogUtils\n",
    "\n",
    "_jsLogUtils : JsLogUtils = pyServiceUtils.getSubSvrByName(\"Code\", \"LogUtils\",\"JsLogUtils\")\n",
    "\n",
    "from BB.app.services.BBTs.BBTs_V8_Debugger import BBTs_V8_Debugger\n",
    "\n",
    "_v8_Debugger: BBTs_V8_Debugger = pyServiceUtils.getSubSvrByName(\"BB\", \"BBTs\", \"BBTs_V8_Debugger\")\n",
    "\n",
    "nest_asyncio.apply()\n",
    "\n",
    "\n",
    "async def listen_for_connection(uri, timeout):\n",
    "    start_time = asyncio.get_event_loop().time()\n",
    "    while True:\n",
    "        try:\n",
    "            async with websockets.connect(uri) as websocket:\n",
    "                print(\"发现服务\")\n",
    "                return\n",
    "        except (ConnectionRefusedError, OSError):\n",
    "            if (asyncio.get_event_loop().time() - start_time) > timeout:\n",
    "                print(\"未能在指定时间内发现指定端口的 websocket 服务\")\n",
    "                sys.exit(1)\n",
    "            else:\n",
    "                await asyncio.sleep(1)\n",
    "\n",
    "\n",
    "async def is_websocket_service_available(uri):\n",
    "    try:\n",
    "        async with websockets.connect(uri) as websocket:\n",
    "            return True\n",
    "    except (ConnectionRefusedError, OSError):\n",
    "        return False\n",
    "\n",
    "\n",
    "async def waitForSecond(sec: int):\n",
    "    await asyncio.sleep(sec)\n",
    "\n",
    "\n",
    "from utils.CompanyUtil import Company_BB_Utils\n",
    "import os\n",
    "\n",
    "# 确保 ts 监控开启，这样生成完毕，直接就拷贝到Unity中了\n",
    "_exwCmd = \"chmod +x tsc\"\n",
    "_watchCmd = \"tsc --watch --project tsconfig.json\"\n",
    "_specificText = \"Found 0 errors. Watching for file changes.\"\n",
    "_tsProject = os.path.join(Company_BB_Utils.getSLGProjectPath(), \"project_ts\")\n",
    "_uri = \"ws://localhost:8080\""
   ]
  },
  {
   "cell_type": "code",
   "execution_count": null,
   "metadata": {
    "ExecuteTime": {
     "end_time": "2023-10-10T15:18:41.769758Z",
     "start_time": "2023-10-10T15:18:34.721980Z"
    }
   },
   "outputs": [],
   "source": [
    "\n",
    "# ts 生成 js 代码，覆盖掉之前添加过日志的\n",
    "cmdUtils.run_command_threading(\n",
    "    _watchCmd,\n",
    "    _tsProject,\n",
    "    15,\n",
    "    _specificText,\n",
    ")\n",
    "\n",
    "# 关闭掉监控 ts 变化的进程\n",
    "if cmdUtils.isCmdRunning(_watchCmd):\n",
    "    print(f\"kill : {_watchCmd}\")\n",
    "    cmdUtils.killCmd(_watchCmd)"
   ]
  },
  {
   "cell_type": "code",
   "execution_count": null,
   "metadata": {
    "ExecuteTime": {
     "end_time": "2023-10-10T15:18:46.224540Z",
     "start_time": "2023-10-10T15:18:41.782169Z"
    }
   },
   "outputs": [],
   "source": [
    "# 为 导出的 js 文件添加日志\n",
    "_distPath = os.path.join(_tsProject, \"dist\")\n",
    "_jsFolderRelativePath = \"Game/Module/\"\n",
    "# _jsFolderRelativePath = \"Game/Module/Guide/\"\n",
    "_logUtilRelativePath = \"Framework/ABDebug/LogUtils.js\"\n",
    "_jsLogUtils.analyseJsFolder(_distPath, _jsFolderRelativePath, _logUtilRelativePath)"
   ]
  },
  {
   "cell_type": "code",
   "execution_count": null,
   "metadata": {
    "ExecuteTime": {
     "end_time": "2023-10-10T15:18:51.415332Z",
     "start_time": "2023-10-10T15:18:46.226768Z"
    }
   },
   "outputs": [],
   "source": [
    "\n",
    "# 再次重启 Unity 上的 js 环境\n",
    "_v8_Debugger.clearLogs()  # 清理日志\n",
    "\n",
    "_V8_is_online = await is_websocket_service_available(_uri)\n",
    "if _V8_is_online:\n",
    "    _v8_Debugger.reset()  # 重置环境\n",
    "    await waitForSecond(5)  # 等主界面启动\n",
    "\n",
    "await listen_for_connection(_uri, 20)  # 等待 Unity 中 V8 启动\n"
   ]
  },
  {
   "cell_type": "code",
   "execution_count": null,
   "metadata": {
    "ExecuteTime": {
     "end_time": "2023-10-10T15:18:51.417867Z",
     "start_time": "2023-10-10T15:18:51.416189Z"
    }
   },
   "outputs": [],
   "source": []
  }
 ],
 "metadata": {
  "kernelspec": {
   "display_name": "Python 3",
   "language": "python",
   "name": "python3"
  },
  "language_info": {
   "codemirror_mode": {
    "name": "ipython",
    "version": 2
   },
   "file_extension": ".py",
   "mimetype": "text/x-python",
   "name": "python",
   "nbconvert_exporter": "python",
   "pygments_lexer": "ipython2",
   "version": "2.7.6"
  }
 },
 "nbformat": 4,
 "nbformat_minor": 0
}
