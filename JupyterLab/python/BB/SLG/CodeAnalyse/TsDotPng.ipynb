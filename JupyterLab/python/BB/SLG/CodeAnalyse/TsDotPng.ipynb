{
 "cells": [
  {
   "cell_type": "code",
   "execution_count": null,
   "metadata": {
    "ExecuteTime": {
     "end_time": "2023-05-17T18:02:47.996735Z",
     "start_time": "2023-05-17T18:02:47.990846Z"
    }
   },
   "outputs": [],
   "source": [
    "# 导入Py_Service\n",
    "import sys\n",
    "\n",
    "sys.path.append(\"/Users/nobody/Documents/develop/GitHub/Services/PY_Service\")\n",
    "\n",
    "from utils import cmdUtils\n",
    "from utils import folderUtils\n",
    "import os\n",
    "import sys\n",
    "\n",
    "# 将工程的代码拷贝到以下文件夹中\n",
    "_tsProjectPath = \"/Users/nobody/Documents/develop/CoderRunner/TS/chapter-2/\"\n",
    "\n",
    "# # 两种方式来生成 依赖关系图\n",
    "# # 安装 命令\n",
    "# # https://github.com/sverweij/dependency-cruiser\n",
    "# _dependency_cruiser_cmd = \"npm install --save-dev dependency-cruiser\"\n",
    "# # 手动执行 npx depcruise --init\n",
    "# # 按照提示生成 config\n",
    "# _dependency_cruiser_create = \"npx depcruise src --include-only \\\"^src\\\" --output-type dot | dot -T svg > dependency-graph.svg\"\n",
    "#\n",
    "# # https://github.com/PSeitz/ts-dependency-graph\n",
    "# _ts_dependency_graph_cmd = \"npm i ts_dependency_graph --save-dev\"\n",
    "# _ts_dependency_graph_create = \"./node_modules/.bin/ts_dependency_graph --start src/Game/Game.ts --graph_folder | dot -T svg > dependencygraph.svg\"\n",
    "\n",
    "# 生成图命令\n",
    "_relativeModuleContainerFolder = \"src/Game/Module/\"\n",
    "_moduleContainerFolder = os.path.join(_tsProjectPath, _relativeModuleContainerFolder)\n",
    "_moduleNameList = folderUtils.getFolderNameListJustOneDepth(_moduleContainerFolder)\n",
    "_moduleSVGCmd1 = None\n",
    "_moduleSVGCmd2 = None\n",
    "for _i in range(len(_moduleNameList)):\n",
    "    # ts_dependency_graph\n",
    "    _relativeModulePath = f\"src/Game/Module/{_moduleNameList[_i]}/{_moduleNameList[_i]}Module.ts\"\n",
    "    _relativeSVGPath = _relativeModulePath.replace(\".ts\", \".svg\")\n",
    "    _modulePath = os.path.join(_tsProjectPath, _relativeModulePath)\n",
    "    # 校验模块文件是否存在\n",
    "    if os.path.exists(_modulePath) == False:\n",
    "        print(f\"{_modulePath} 不存在\")\n",
    "        sys.exit(1)\n",
    "    # 存在的情况下，使用当前模块做入口生成TS依赖图\n",
    "    _createCmd1 = f\"./node_modules/.bin/ts_dependency_graph --start {_relativeModulePath} --graph_folder | dot -T svg > {_relativeSVGPath}\"\n",
    "    if _i == 0:\n",
    "        _moduleSVGCmd1 = _createCmd1\n",
    "    else:\n",
    "        _moduleSVGCmd1 = f\"{_createCmd1};{_moduleSVGCmd1}\"\n",
    "\n",
    "    # dependency-cruiser\n",
    "    _regRelativeModuleContainerFolder = f\"^{os.path.join(_relativeModuleContainerFolder, _moduleNameList[_i])}\"\n",
    "    _svgPath = f\"{os.path.join(_relativeModuleContainerFolder, _moduleNameList[_i], _moduleNameList[_i])}.svg\"\n",
    "    _createCmd2 = f\"npx depcruise src --include-only \\\"{_regRelativeModuleContainerFolder}\\\" --output-type dot | dot -T svg > {_svgPath}\"\n",
    "    if _i == 0:\n",
    "        _moduleSVGCmd2 = _createCmd2\n",
    "    else:\n",
    "        _moduleSVGCmd2 = f\"{_createCmd2};{_moduleSVGCmd2}\"\n",
    "cmdUtils.doStrAsCmd(_moduleSVGCmd2, _tsProjectPath, True)  # 创建SVG图\n",
    "cmdUtils.doStrAsCmd(_moduleSVGCmd1, _tsProjectPath, True)  # 创建SVG图 -- _moduleSVGCmd1 中有报错，会终止，放到最后执行\n",
    "\n"
   ]
  },
  {
   "cell_type": "code",
   "execution_count": null,
   "metadata": {},
   "outputs": [],
   "source": []
  }
 ],
 "metadata": {
  "kernelspec": {
   "display_name": "Python 3",
   "language": "python",
   "name": "python3"
  },
  "language_info": {
   "codemirror_mode": {
    "name": "ipython",
    "version": 2
   },
   "file_extension": ".py",
   "mimetype": "text/x-python",
   "name": "python",
   "nbconvert_exporter": "python",
   "pygments_lexer": "ipython2",
   "version": "2.7.6"
  }
 },
 "nbformat": 4,
 "nbformat_minor": 0
}
