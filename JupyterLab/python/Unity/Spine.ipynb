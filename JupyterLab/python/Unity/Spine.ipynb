{
 "cells": [
  {
   "cell_type": "code",
   "execution_count": null,
   "id": "13c32eff-39eb-4db4-bcbe-23dab284f1df",
   "metadata": {
    "ExecuteTime": {
     "end_time": "2023-04-08T20:39:30.017837Z",
     "start_time": "2023-04-08T20:39:30.014356Z"
    },
    "tags": []
   },
   "outputs": [],
   "source": [
    "# 导入Py_Service\n",
    "import sys\n",
    "import os\n",
    "\n",
    "sys.path.append(\"/Users/nobody/Documents/develop/GitHub/Services/PY_Service\")\n",
    "# 导入工具\n",
    "from utils import folderUtils\n",
    "from utils import fileCopyUtils\n",
    "\n",
    "# 基础信息\n",
    "_projectPath = \"/disk/XS/wp/client/\"\n",
    "_projectAssetPath = os.path.join(_projectPath, \"Assets/\")\n",
    "_tempAssetPath = \"/Users/nobody/Downloads/Assets/\"\n",
    "_gameResourcesPath = os.path.join(_projectAssetPath, \"GameResources\")\n",
    "_tempGameResourcePath = os.path.join(_tempAssetPath, \"GameResources\")\n",
    "# Unity路径\n",
    "_unity_2020 = \"/Applications/Unity/Unity2020.3.23/Unity.app/Contents/MacOS/Unity\"  # 2020\n",
    "_unity_2023 = \"/Applications/Unity/Hub/Editor/2023.1.0a21/Unity.app/Contents/MacOS/Unity\"  # 2023\n",
    "_unityPath = _unity_2020"
   ]
  },
  {
   "cell_type": "code",
   "execution_count": null,
   "id": "51dd719d-f639-4904-b829-1774941d90f4",
   "metadata": {
    "ExecuteTime": {
     "end_time": "2023-04-08T20:39:36.210772Z",
     "start_time": "2023-04-08T20:39:36.194019Z"
    },
    "tags": []
   },
   "outputs": [],
   "source": [
    "# # 先将工程内的内容拷贝出来\n",
    "# folderUtils.moveFolderFilesReg(_projectAssetPath,_tempAssetPath, [\".*SkeletonData\\.asset$\"])\n",
    "\n",
    "# 打印所有 Spine 的路径\n",
    "#folderUtils.showFileStructure(_tempAssetPath)\n"
   ]
  },
  {
   "cell_type": "code",
   "execution_count": null,
   "id": "49505f54",
   "metadata": {
    "ExecuteTime": {
     "end_time": "2023-04-08T20:39:37.638858Z",
     "start_time": "2023-04-08T20:39:37.068553Z"
    }
   },
   "outputs": [],
   "source": [
    "# 拷贝出 Spine 的相关文件\n",
    "_skeletonDataFilePathList = folderUtils.getFilterFilesInPathReg(_gameResourcesPath, [\".*SkeletonData\\.asset$\"])\n",
    "for _idx in range(len(_skeletonDataFilePathList)):\n",
    "    _spineFolderPath = os.path.dirname(_skeletonDataFilePathList[_idx])\n",
    "    _relativeSpinePath = _spineFolderPath.split(_gameResourcesPath)[1][1:]  #去掉 / ,避免 os.path.join 出错\n",
    "    print('_relativeSpinePath = ' + str(_relativeSpinePath))\n",
    "    _newSpineFolderPath = os.path.join(_tempGameResourcePath, _relativeSpinePath)\n",
    "    folderUtils.makeSureDirIsExists(_newSpineFolderPath)\n",
    "#         fileCopyUtils.copyFilesInDir(_spineFolderPath,_newSpineFolderPath)\n",
    "# folderUtils.removeFileByFilter(_tempGameResourcePath, [\".meta\"])"
   ]
  },
  {
   "cell_type": "code",
   "execution_count": null,
   "id": "bcc6261a-44ae-436f-a39f-3fc7f7466440",
   "metadata": {
    "ExecuteTime": {
     "end_time": "2023-04-08T20:40:02.899310Z",
     "start_time": "2023-04-08T20:39:44.793894Z"
    }
   },
   "outputs": [],
   "source": [
    "exportAssetPath = \"SpineSkeleton/HideCharacter/E_BC_Hude_SPINE_001_hx\"\n",
    "exportAsstName = \"E_BC_Hude_SPINE_001_hx\"\n",
    "\n",
    "import subprocess\n",
    "\n",
    "subprocess.call(\n",
    "    [\n",
    "        _unityPath,\n",
    "        \"-projectPath\",\n",
    "        _projectPath,\n",
    "        '-quit',  # 其他命令执行完毕后将退出Unity编辑器。\n",
    "        '-batchmode',  # 批处理模式下运行Unity\n",
    "        '-exportPackage',  # 导出package。\n",
    "        exportAssetPath,  # 导出 package，路径 Asset 跟目录\n",
    "        exportAsstName  # 导出 package，的重命名\n",
    "    ]\n",
    ")"
   ]
  },
  {
   "cell_type": "code",
   "execution_count": null,
   "id": "76f71822",
   "metadata": {},
   "outputs": [],
   "source": []
  }
 ],
 "metadata": {
  "kernelspec": {
   "display_name": "Python 3 (ipykernel)",
   "language": "python",
   "name": "python3"
  },
  "language_info": {
   "codemirror_mode": {
    "name": "ipython",
    "version": 3
   },
   "file_extension": ".py",
   "mimetype": "text/x-python",
   "name": "python",
   "nbconvert_exporter": "python",
   "pygments_lexer": "ipython3",
   "version": "3.7.16"
  }
 },
 "nbformat": 4,
 "nbformat_minor": 5
}
