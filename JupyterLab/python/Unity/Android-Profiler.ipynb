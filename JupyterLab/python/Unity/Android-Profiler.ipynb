{
 "cells": [
  {
   "cell_type": "code",
   "execution_count": null,
   "metadata": {
    "ExecuteTime": {
     "end_time": "2023-04-17T17:43:37.449712Z",
     "start_time": "2023-04-17T17:43:37.436486Z"
    }
   },
   "outputs": [],
   "source": [
    "# 导入Py_Service\n",
    "import sys\n",
    "\n",
    "sys.path.append(\"/Users/nobody/Documents/develop/GitHub/Services/PY_Service\")\n",
    "\n",
    "from utils.CompanyUtil import Company_BB_Utils\n",
    "\n",
    "# 将包名的信息和端口链接\n",
    "_cmdLink = f'adb forward tcp:34999 localabstract:Unity-{Company_BB_Utils.getJPDebugPackName()}'\n",
    "# 将Android端口和本机端口映射，要链接USE\n",
    "_cmdImg = \"adb reverse tcp:34998 tcp:34999\"\n",
    "print(_cmdLink)\n",
    "\n",
    "\n",
    "\n"
   ]
  },
  {
   "cell_type": "code",
   "execution_count": null,
   "metadata": {},
   "outputs": [],
   "source": []
  }
 ],
 "metadata": {
  "kernelspec": {
   "display_name": "Python 3",
   "language": "python",
   "name": "python3"
  },
  "language_info": {
   "codemirror_mode": {
    "name": "ipython",
    "version": 2
   },
   "file_extension": ".py",
   "mimetype": "text/x-python",
   "name": "python",
   "nbconvert_exporter": "python",
   "pygments_lexer": "ipython2",
   "version": "2.7.6"
  }
 },
 "nbformat": 4,
 "nbformat_minor": 0
}
