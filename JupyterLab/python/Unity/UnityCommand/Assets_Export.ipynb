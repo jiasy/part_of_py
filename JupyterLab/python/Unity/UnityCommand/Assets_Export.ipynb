{
 "cells": [
  {
   "cell_type": "code",
   "execution_count": null,
   "metadata": {
    "ExecuteTime": {
     "end_time": "2023-04-11T04:56:38.523033Z",
     "start_time": "2023-04-11T04:56:38.408511Z"
    }
   },
   "outputs": [],
   "source": [
    "# 导入Py_Service\n",
    "import sys\n",
    "import os\n",
    "\n",
    "sys.path.append(\"/Users/nobody/Documents/develop/GitHub/Services/PY_Service\")\n",
    "# 导入工具\n",
    "from utils import folderUtils\n",
    "from utils import pyServiceUtils\n",
    "\n",
    "from Unity.app.services.UnityCommand import UnityCommand\n",
    "from Unity.app.services.UnityCommand.Assets_Export import Assets_Export\n",
    "\n",
    "_unityCommand: UnityCommand = pyServiceUtils.getSvrByName(\"Unity\", \"UnityCommand\")\n",
    "_assetsExport: Assets_Export = pyServiceUtils.getSubSvrByName(\"Unity\", \"UnityCommand\", \"Assets_Export\")\n",
    "\n",
    "from Unity.app.services.UnityFileAnalyse import UnityFileAnalyse\n",
    "\n",
    "_unityFileAnalyse: UnityFileAnalyse = pyServiceUtils.getSvrByName(\"Unity\", \"UnityFileAnalyse\")"
   ]
  },
  {
   "cell_type": "code",
   "execution_count": null,
   "metadata": {
    "ExecuteTime": {
     "end_time": "2023-04-11T04:56:51.983200Z",
     "start_time": "2023-04-11T04:56:51.612979Z"
    }
   },
   "outputs": [],
   "source": [
    "# 工程信息\n",
    "_projectPath = \"/disk/XS/wp/client/\"\n",
    "# _projectPath = \"/disk/XS/wpc/\"\n",
    "\n",
    "# 导出 unitypackage 路径\n",
    "_exportPackagePath = os.path.join(\"/Users/nobody/Downloads/Assets/\", \"package.unitypackage\")\n",
    "\n",
    "_spineNameToResListDict = _unityFileAnalyse.getSpineInfos(_projectPath, \"Assets/GameResources\")\n",
    "\n",
    "_spineResList = _spineNameToResListDict[\"ui_cj_zs_bj_z46_01\"]\n"
   ]
  },
  {
   "cell_type": "code",
   "execution_count": null,
   "metadata": {
    "ExecuteTime": {
     "end_time": "2023-04-11T00:27:50.310914Z",
     "start_time": "2023-04-11T00:27:50.309448Z"
    }
   },
   "outputs": [],
   "source": [
    "# 命令行导出资源【可能会导致 Unity 打开的时候，重新转换指定平台】\n",
    "_assetsExport.exportFolderList(2020, _projectPath, _spineResList, _exportPackagePath)\n",
    "\n",
    "# # 拷贝要执行的 CS 脚本，需要手动打开 Unity 执行 PY_Service/Assets_Export\n",
    "# _assetsExport.copyCS(_projectPath)\n",
    "# # 构建 CS 脚本参数\n",
    "# _assetsExport.createJson(_projectPath, _spineResList, _exportPackagePath)"
   ]
  },
  {
   "cell_type": "code",
   "execution_count": null,
   "metadata": {},
   "outputs": [],
   "source": []
  },
  {
   "cell_type": "code",
   "execution_count": null,
   "metadata": {
    "ExecuteTime": {
     "end_time": "2023-04-11T05:06:47.513359Z",
     "start_time": "2023-04-11T05:06:47.505243Z"
    }
   },
   "outputs": [],
   "source": [
    "_unityPath = _unityCommand.getUnityAppPath(2020)\n",
    "_testProjectPath = \"/Users/nobody/Downloads/Assets/TestProject\"\n",
    "_createTestProjectCMD = \"{unityPath} -batchmode -createProject {testProjectPath}\".format(unityPath=_unityPath,testProjectPath=_testProjectPath)\n",
    "_importPackageIntoProjectCMD = \"{unityPath} -batchmode -projectPath {testProjectPath} -importPackage {exportPackagePath} -quit\".format(unityPath=_unityPath,testProjectPath=_testProjectPath,exportPackagePath=_exportPackagePath)\n",
    "print(_createTestProjectCMD)\n",
    "print(_importPackageIntoProjectCMD)"
   ]
  },
  {
   "cell_type": "code",
   "execution_count": null,
   "metadata": {},
   "outputs": [],
   "source": []
  }
 ],
 "metadata": {
  "kernelspec": {
   "display_name": "Python 3 (ipykernel)",
   "language": "python",
   "name": "python3"
  },
  "language_info": {
   "codemirror_mode": {
    "name": "ipython",
    "version": 3
   },
   "file_extension": ".py",
   "mimetype": "text/x-python",
   "name": "python",
   "nbconvert_exporter": "python",
   "pygments_lexer": "ipython3",
   "version": "3.11.2"
  }
 },
 "nbformat": 4,
 "nbformat_minor": 1
}
