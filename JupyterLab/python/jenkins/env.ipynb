{
 "cells": [
  {
   "cell_type": "code",
   "execution_count": null,
   "id": "a5b9d254-cf26-4ba1-9cb9-cfef1aba6c8b",
   "metadata": {
    "ExecuteTime": {
     "start_time": "2023-12-09T20:30:17.528112Z",
     "end_time": "2023-12-09T20:30:18.546081Z"
    },
    "execution": {
     "iopub.execute_input": "2023-04-04T17:55:33.648547Z",
     "iopub.status.busy": "2023-04-04T17:55:33.647633Z",
     "iopub.status.idle": "2023-04-04T17:55:33.660290Z",
     "shell.execute_reply": "2023-04-04T17:55:33.659317Z"
    }
   },
   "outputs": [],
   "source": [
    "from pathlib import Path\n",
    "from utils import sysUtils\n",
    "import os\n",
    "\n",
    "_cwd = Path(os.getcwd())\n",
    "print(_cwd)"
   ]
  },
  {
   "cell_type": "code",
   "execution_count": null,
   "id": "21e8eeec-57bb-4d2b-a1f9-d0c4a95c6585",
   "metadata": {
    "ExecuteTime": {
     "end_time": "2023-04-18T18:17:29.903149Z",
     "start_time": "2023-04-18T18:17:29.900972Z"
    },
    "execution": {
     "iopub.execute_input": "2023-04-04T17:55:33.665486Z",
     "iopub.status.busy": "2023-04-04T17:55:33.665137Z",
     "iopub.status.idle": "2023-04-04T17:55:33.673736Z",
     "shell.execute_reply": "2023-04-04T17:55:33.673137Z"
    }
   },
   "outputs": [],
   "source": [
    "sysUtils.showEnv()"
   ]
  },
  {
   "cell_type": "code",
   "execution_count": null,
   "id": "de754bdc-fe92-4ef4-88c2-aaa43e9aa5e9",
   "metadata": {
    "ExecuteTime": {
     "end_time": "2023-04-15T15:26:56.875425Z",
     "start_time": "2023-04-15T15:26:56.873518Z"
    }
   },
   "outputs": [],
   "source": []
  }
 ],
 "metadata": {
  "kernelspec": {
   "display_name": "Python 3 (ipykernel)",
   "language": "python",
   "name": "python3"
  },
  "language_info": {
   "codemirror_mode": {
    "name": "ipython",
    "version": 3
   },
   "file_extension": ".py",
   "mimetype": "text/x-python",
   "name": "python",
   "nbconvert_exporter": "python",
   "pygments_lexer": "ipython3",
   "version": "3.7.16"
  }
 },
 "nbformat": 4,
 "nbformat_minor": 5
}
