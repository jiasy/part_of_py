{
 "cells": [
  {
   "cell_type": "code",
   "execution_count": null,
   "id": "a5b9d254-cf26-4ba1-9cb9-cfef1aba6c8b",
   "metadata": {
    "execution": {
     "iopub.execute_input": "2023-12-03T04:06:58.016130Z",
     "iopub.status.busy": "2023-12-03T04:06:58.014938Z",
     "iopub.status.idle": "2023-12-03T04:06:58.031243Z",
     "shell.execute_reply": "2023-12-03T04:06:58.030303Z"
    }
   },
   "outputs": [],
   "source": [
    "from pathlib import Path\n",
    "import os\n",
    "\n",
    "_cwd = Path(os.getcwd())\n",
    "print(_cwd)"
   ]
  },
  {
   "cell_type": "code",
   "execution_count": null,
   "id": "21e8eeec-57bb-4d2b-a1f9-d0c4a95c6585",
   "metadata": {
    "execution": {
     "iopub.execute_input": "2023-12-03T04:06:58.036521Z",
     "iopub.status.busy": "2023-12-03T04:06:58.036148Z",
     "iopub.status.idle": "2023-12-03T04:06:58.045223Z",
     "shell.execute_reply": "2023-12-03T04:06:58.044496Z"
    }
   },
   "outputs": [],
   "source": [
    "_envDict = dict(os.environ)\n",
    "_sortedKeys = sorted(_envDict.keys())\n",
    "for _key in _sortedKeys:\n",
    "    _value = _envDict[_key]\n",
    "    if _key != \"PATH\":\n",
    "        print(f'{_key} = {_value}')\n",
    "    else:\n",
    "        print(f'{_key} =')\n",
    "        _pathList = _value.split(os.pathsep)\n",
    "        for _path in _pathList:\n",
    "            print(f'    {_path}')"
   ]
  },
  {
   "cell_type": "code",
   "execution_count": null,
   "id": "de754bdc-fe92-4ef4-88c2-aaa43e9aa5e9",
   "metadata": {},
   "outputs": [],
   "source": []
  }
 ],
 "metadata": {
  "kernelspec": {
   "display_name": "Python 3 (ipykernel)",
   "language": "python",
   "name": "python3"
  },
  "language_info": {
   "codemirror_mode": {
    "name": "ipython",
    "version": 3
   },
   "file_extension": ".py",
   "mimetype": "text/x-python",
   "name": "python",
   "nbconvert_exporter": "python",
   "pygments_lexer": "ipython3",
   "version": "3.7.16"
  }
 },
 "nbformat": 4,
 "nbformat_minor": 5
}
